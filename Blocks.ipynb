{
 "cells": [
  {
   "cell_type": "markdown",
   "metadata": {},
   "source": [
    "# Creation of Blocks and Mining Blocks\n",
    " "
   ]
  },
  {
   "cell_type": "code",
   "execution_count": 1,
   "metadata": {},
   "outputs": [],
   "source": [
    "#Import relevant libraries\n",
    "from cryptography.hazmat.primitives import hashes\n",
    "from cryptography.hazmat.primitives.asymmetric import ec\n",
    "from cryptography.hazmat.primitives import serialization\n",
    "from cryptography.hazmat.primitives.asymmetric import utils\n",
    "import math\n",
    "import time\n",
    "from random import randint\n",
    "from random import seed\n",
    "from transactions import *\n",
    "import copy\n"
   ]
  },
  {
   "cell_type": "code",
   "execution_count": 2,
   "metadata": {},
   "outputs": [],
   "source": [
    "class UserState:\n",
    "    def __init__(self, balance, nonce):\n",
    "        self.balance=balance\n",
    "        self.nonce=nonce"
   ]
  },
  {
   "cell_type": "code",
   "execution_count": 18,
   "metadata": {},
   "outputs": [],
   "source": [
    "class Block:\n",
    "    def __init__(self, previous, height, miner, transactions, timestamp, difficulty, block_id, nonce):\n",
    "        self.previous=previous\n",
    "        self.height=height\n",
    "        self.miner=miner\n",
    "        self.transactions=transactions\n",
    "        self.timestamp=timestamp\n",
    "        self.difficulty=difficulty\n",
    "        self.block_id=block_id\n",
    "        self.nonce=nonce\n",
    "\n",
    "    def verify_and_get_changes(self, difficulty, previous_user_states):\n",
    "        \n",
    "        user_states_dic=copy.deepcopy(previous_user_states)\n",
    "        if self.miner not in user_states_dic:\n",
    "            miner=generate_new_user(0,-1)\n",
    "            user_states_dic[self.miner]=miner\n",
    "        \n",
    "        #the difficulty of the block should be the same as provided as argument\n",
    "        assert self.difficulty==difficulty, \"difficulty doesn't match\"\n",
    "        \n",
    "        #the lengh of the miner should be 20 bytes long\n",
    "        assert len(self.miner) == 20 , \"miner does not have the correct lenght\"\n",
    "        \n",
    "        #block_id should be small enought to match difficulty of the block\n",
    "        target=2**256//self.difficulty\n",
    "        block_id_num=int.from_bytes(self.block_id, \"big\")\n",
    "        assert block_id_num <= target, \"block_id too large\"\n",
    "        \n",
    "        #block_id should be correct, this should be calculated\n",
    "        chosen_hash = hashes.SHA256()\n",
    "        block_id_hasher = hashes.Hash(chosen_hash)\n",
    "        block_id_hasher.update(self.previous)\n",
    "        block_id_hasher.update(self.miner)\n",
    "        for transaction in self.transactions:\n",
    "            block_id_hasher.update(transaction.txid)\n",
    "        block_id_hasher.update(self.timestamp.to_bytes(8, byteorder = 'little', signed = False))\n",
    "        block_id_hasher.update(self.difficulty.to_bytes(16, byteorder = 'little', signed = False))\n",
    "        block_id_hasher.update(self.nonce.to_bytes(8, byteorder = 'little', signed = False))\n",
    "        block_id_calculated=block_id_hasher.finalize()\n",
    "        assert block_id_calculated==self.block_id, \"block_id incorrect\"\n",
    "        \n",
    "        #the list of the transactions should be at least 25\n",
    "        assert len(self.transactions)>=25, \"transaction list too short\"\n",
    "        \n",
    "        \n",
    "        #Getting changes and verifying transactions\n",
    "        total_fee=0\n",
    "        for transaction in self.transactions:\n",
    "            if transaction.recipient_hash not in user_states_dic:\n",
    "                new_recipient=generate_new_user(0,-1)\n",
    "                user_states_dic[transaction.recipient_hash]=new_recipient    \n",
    "            transaction.verify(user_states_dic[transaction.sender_hash].balance,\n",
    "                               user_states_dic[transaction.sender_hash].nonce)\n",
    "            user_states_dic[transaction.sender_hash].balance=user_states_dic[transaction.sender_hash].balance-\\\n",
    "                                                                transaction.amount  \n",
    "            user_states_dic[transaction.recipient_hash].balance=user_states_dic[transaction.recipient_hash].balance+\\\n",
    "                                                                transaction.amount-transaction.fee\n",
    "            total_fee+=transaction.fee\n",
    "            user_states_dic[transaction.sender_hash].nonce=user_states_dic[transaction.sender_hash].nonce+1\n",
    "        user_states_dic[self.miner].balance=user_states_dic[self.miner].balance+total_fee+10000  \n",
    "            \n",
    "        return user_states_dic"
   ]
  },
  {
   "cell_type": "code",
   "execution_count": 4,
   "metadata": {},
   "outputs": [],
   "source": [
    "def mine_block(previous, height, miner, transactions, timestamp, difficulty):\n",
    "    \n",
    "    #find nonce\n",
    "    chosen_hash = hashes.SHA256()\n",
    "    block_id_hasher = hashes.Hash(chosen_hash)\n",
    "    block_id_hasher.update(previous)\n",
    "    block_id_hasher.update(miner)\n",
    "    for transaction in transactions:\n",
    "            block_id_hasher.update(transaction.txid)\n",
    "    block_id_hasher.update(timestamp.to_bytes(8, byteorder = 'little', signed = False))\n",
    "    block_id_hasher.update(difficulty.to_bytes(16, byteorder = 'little', signed = False))\n",
    "    target=2**256//difficulty\n",
    "    for i in range(100000000):\n",
    "        nonce_finder=block_id_hasher.copy()\n",
    "        seed(i)\n",
    "        nonce=randint(0,10000000000)\n",
    "        nonce_finder.update(nonce.to_bytes(8, byteorder = 'little', signed = False))\n",
    "        nonce_finder_hash=nonce_finder.finalize()\n",
    "        nonce_finder_int=int.from_bytes(nonce_finder_hash, \"big\")\n",
    "        if nonce_finder_int<=target:\n",
    "            break\n",
    "    block_id_hasher.update(nonce.to_bytes(8, byteorder = 'little', signed = False))\n",
    "    block_id=block_id_hasher.finalize()\n",
    "    \n",
    "    block=Block(previous=previous, height=height, miner=miner, transactions=transactions,\n",
    "                timestamp=timestamp, difficulty=difficulty, block_id=block_id, nonce=nonce)\n",
    "    return block"
   ]
  },
  {
   "cell_type": "code",
   "execution_count": 5,
   "metadata": {},
   "outputs": [],
   "source": [
    "def generate_new_user(balance, nonce):\n",
    "    User=UserState(balance=balance, nonce=nonce)\n",
    "    return User\n",
    "    "
   ]
  },
  {
   "cell_type": "markdown",
   "metadata": {},
   "source": [
    "## Block mining and verification"
   ]
  },
  {
   "cell_type": "code",
   "execution_count": 6,
   "metadata": {},
   "outputs": [],
   "source": [
    "#I start by Creating 10 users\n",
    "#5 senders start with balance 1000\n",
    "#5 receivers start with balance 0\n",
    "#all 10 start with nonce -1\n",
    "senders_private_keys=[]\n",
    "senders_address=[]\n",
    "receivers_address=[]\n",
    "#I Create a senders and recipient hash  from another eliptic curve and hashing\n",
    "for i in range(10):\n",
    "    private_key=ec.generate_private_key(ec.SECP256K1)\n",
    "    public_key_not_encoded = private_key.public_key()\n",
    "    public_key=public_key_not_encoded.public_bytes(encoding=serialization.Encoding.DER, \n",
    "                                                                 format=serialization.PublicFormat.SubjectPublicKeyInfo)\n",
    "    sha1 = hashes.Hash(hashes.SHA1())\n",
    "    sha1.update(public_key)\n",
    "    address=sha1.finalize()\n",
    "    if i <5:\n",
    "        senders_private_keys.append(private_key)\n",
    "        senders_address.append(address)\n",
    "    else:\n",
    "        receivers_address.append(address)       \n",
    "#I Generate user states for receivers and senders        \n",
    "senders=[]\n",
    "receivers=[]\n",
    "for i in range(10):\n",
    "    if i<5:\n",
    "        senders.append(generate_new_user(1000,-1))\n",
    "    else:\n",
    "        receivers.append(generate_new_user(0,-1))\n",
    "#I Generate the previous_user_states dictionary\n",
    "senders_address_states=dict(zip(senders_address,senders))\n",
    "receivers_address_states=dict(zip(receivers_address,receivers))\n",
    "previous_user_states = senders_address_states.copy()\n",
    "for key, value in receivers_address_states.items():\n",
    "    previous_user_states[key] = value\n",
    "\n",
    "#I Create the transaction list, all senders sends to all receivers\n",
    "##All transactions will be done with the same amount and fee\n",
    "amount=10\n",
    "fee=1\n",
    "Transactions=[]\n",
    "for i in range(5):\n",
    "    nonce=0\n",
    "    for j in range(5):\n",
    "        Tr, txid, signature= create_signed_transaction(senders_private_keys[i], receivers_address[j], amount, fee, nonce)\n",
    "        Transactions.append(Tr)\n",
    "        nonce+=1\n",
    "#I Create a new block\n",
    "#I create a miner address \n",
    "miner_private_key=ec.generate_private_key(ec.SECP256K1)\n",
    "miner_public_key_not_encoded = miner_private_key.public_key()\n",
    "miner_public_key=miner_public_key_not_encoded.public_bytes(encoding=serialization.Encoding.DER, \n",
    "                                                                 format=serialization.PublicFormat.SubjectPublicKeyInfo)\n",
    "miner_sha1 = hashes.Hash(hashes.SHA1())\n",
    "miner_sha1.update(miner_public_key)\n",
    "miner_address=miner_sha1.finalize()\n",
    "#Use a simple difficulty\n",
    "difficulty=10000\n",
    "#Start with the previous block as 0\n",
    "firts_block=0\n",
    "previous=firts_block.to_bytes(32, byteorder = 'little', signed = False)\n",
    "#Create block\n",
    "Block_1=mine_block(previous=previous, height=0, miner=miner_address, transactions=Transactions, timestamp=int(time.time()),\n",
    "                   difficulty=difficulty)\n"
   ]
  },
  {
   "cell_type": "code",
   "execution_count": 7,
   "metadata": {},
   "outputs": [],
   "source": [
    "#verification of the block and get the changes in the balances\n",
    "new_users_states=Block_1.verify_and_get_changes(difficulty=difficulty, previous_user_states=previous_user_states)"
   ]
  },
  {
   "cell_type": "code",
   "execution_count": 8,
   "metadata": {
    "scrolled": true
   },
   "outputs": [
    {
     "name": "stdout",
     "output_type": "stream",
     "text": [
      "the previous user balance was:1000\n",
      "the current user balance is:950\n",
      "the previous user balance was:1000\n",
      "the current user balance is:950\n",
      "the previous user balance was:1000\n",
      "the current user balance is:950\n",
      "the previous user balance was:1000\n",
      "the current user balance is:950\n",
      "the previous user balance was:1000\n",
      "the current user balance is:950\n"
     ]
    }
   ],
   "source": [
    "#verification of sender balances\n",
    "for address in senders_address:\n",
    "    print(\"the previous user balance was:\"+ str(previous_user_states[address].balance))\n",
    "    print(\"the current user balance is:\"+str(new_users_states[address].balance))"
   ]
  },
  {
   "cell_type": "code",
   "execution_count": 9,
   "metadata": {},
   "outputs": [
    {
     "name": "stdout",
     "output_type": "stream",
     "text": [
      "the previous user balance was:0\n",
      "the current user balance is:45\n",
      "the previous user balance was:0\n",
      "the current user balance is:45\n",
      "the previous user balance was:0\n",
      "the current user balance is:45\n",
      "the previous user balance was:0\n",
      "the current user balance is:45\n",
      "the previous user balance was:0\n",
      "the current user balance is:45\n"
     ]
    }
   ],
   "source": [
    "#verification of receiver balances\n",
    "for address in receivers_address:\n",
    "    print(\"the previous user balance was:\"+ str(previous_user_states[address].balance))\n",
    "    print(\"the current user balance is:\"+str(new_users_states[address].balance))"
   ]
  },
  {
   "cell_type": "code",
   "execution_count": 10,
   "metadata": {},
   "outputs": [
    {
     "data": {
      "text/plain": [
       "10025"
      ]
     },
     "execution_count": 10,
     "metadata": {},
     "output_type": "execute_result"
    }
   ],
   "source": [
    "#verification of miner balance\n",
    "new_users_states[miner_address].balance"
   ]
  },
  {
   "cell_type": "markdown",
   "metadata": {},
   "source": [
    "# Verification of the block for wrong values"
   ]
  },
  {
   "cell_type": "markdown",
   "metadata": {},
   "source": [
    "### verification that the difficulty doesn't match"
   ]
  },
  {
   "cell_type": "code",
   "execution_count": 11,
   "metadata": {
    "scrolled": false
   },
   "outputs": [
    {
     "ename": "AssertionError",
     "evalue": "difficulty doesn't match",
     "output_type": "error",
     "traceback": [
      "\u001b[1;31m---------------------------------------------------------------------------\u001b[0m",
      "\u001b[1;31mAssertionError\u001b[0m                            Traceback (most recent call last)",
      "\u001b[1;32m<ipython-input-11-1733cd5b1fc1>\u001b[0m in \u001b[0;36m<module>\u001b[1;34m\u001b[0m\n\u001b[1;32m----> 1\u001b[1;33m \u001b[0mnew_users_states\u001b[0m\u001b[1;33m=\u001b[0m\u001b[0mBlock_1\u001b[0m\u001b[1;33m.\u001b[0m\u001b[0mverify_and_get_changes\u001b[0m\u001b[1;33m(\u001b[0m\u001b[0mdifficulty\u001b[0m\u001b[1;33m=\u001b[0m\u001b[1;36m100\u001b[0m\u001b[1;33m,\u001b[0m \u001b[0mprevious_user_states\u001b[0m\u001b[1;33m=\u001b[0m\u001b[0mprevious_user_states\u001b[0m\u001b[1;33m)\u001b[0m\u001b[1;33m\u001b[0m\u001b[1;33m\u001b[0m\u001b[0m\n\u001b[0m",
      "\u001b[1;32m<ipython-input-3-cdedcad478af>\u001b[0m in \u001b[0;36mverify_and_get_changes\u001b[1;34m(self, difficulty, previous_user_states)\u001b[0m\n\u001b[0;32m     18\u001b[0m \u001b[1;33m\u001b[0m\u001b[0m\n\u001b[0;32m     19\u001b[0m         \u001b[1;31m#the difficulty of the block should be the same as provided as argument\u001b[0m\u001b[1;33m\u001b[0m\u001b[1;33m\u001b[0m\u001b[1;33m\u001b[0m\u001b[0m\n\u001b[1;32m---> 20\u001b[1;33m         \u001b[1;32massert\u001b[0m \u001b[0mself\u001b[0m\u001b[1;33m.\u001b[0m\u001b[0mdifficulty\u001b[0m\u001b[1;33m==\u001b[0m\u001b[0mdifficulty\u001b[0m\u001b[1;33m,\u001b[0m \u001b[1;34m\"difficulty doesn't match\"\u001b[0m\u001b[1;33m\u001b[0m\u001b[1;33m\u001b[0m\u001b[0m\n\u001b[0m\u001b[0;32m     21\u001b[0m \u001b[1;33m\u001b[0m\u001b[0m\n\u001b[0;32m     22\u001b[0m         \u001b[1;31m#the lengh of the miner should be 20 bytes long\u001b[0m\u001b[1;33m\u001b[0m\u001b[1;33m\u001b[0m\u001b[1;33m\u001b[0m\u001b[0m\n",
      "\u001b[1;31mAssertionError\u001b[0m: difficulty doesn't match"
     ]
    }
   ],
   "source": [
    "new_users_states=Block_1.verify_and_get_changes(difficulty=100, previous_user_states=previous_user_states)"
   ]
  },
  {
   "cell_type": "markdown",
   "metadata": {},
   "source": [
    "## Incorrect Block_id"
   ]
  },
  {
   "cell_type": "code",
   "execution_count": 21,
   "metadata": {
    "scrolled": true
   },
   "outputs": [
    {
     "ename": "AssertionError",
     "evalue": "block_id incorrect",
     "output_type": "error",
     "traceback": [
      "\u001b[1;31m---------------------------------------------------------------------------\u001b[0m",
      "\u001b[1;31mAssertionError\u001b[0m                            Traceback (most recent call last)",
      "\u001b[1;32m<ipython-input-21-4934dd4589f8>\u001b[0m in \u001b[0;36m<module>\u001b[1;34m\u001b[0m\n\u001b[0;32m      1\u001b[0m \u001b[0mBlock_1\u001b[0m\u001b[1;33m.\u001b[0m\u001b[0mblock_id\u001b[0m\u001b[1;33m=\u001b[0m\u001b[0mbytes\u001b[0m\u001b[1;33m(\u001b[0m\u001b[1;36m123456789\u001b[0m\u001b[1;33m)\u001b[0m\u001b[1;33m\u001b[0m\u001b[1;33m\u001b[0m\u001b[0m\n\u001b[1;32m----> 2\u001b[1;33m \u001b[0mnew_users_states\u001b[0m\u001b[1;33m=\u001b[0m\u001b[0mBlock_1\u001b[0m\u001b[1;33m.\u001b[0m\u001b[0mverify_and_get_changes\u001b[0m\u001b[1;33m(\u001b[0m\u001b[0mdifficulty\u001b[0m\u001b[1;33m=\u001b[0m\u001b[0mdifficulty\u001b[0m\u001b[1;33m,\u001b[0m \u001b[0mprevious_user_states\u001b[0m\u001b[1;33m=\u001b[0m\u001b[0mprevious_user_states\u001b[0m\u001b[1;33m)\u001b[0m\u001b[1;33m\u001b[0m\u001b[1;33m\u001b[0m\u001b[0m\n\u001b[0m",
      "\u001b[1;32m<ipython-input-18-9de0faf0d205>\u001b[0m in \u001b[0;36mverify_and_get_changes\u001b[1;34m(self, difficulty, previous_user_states)\u001b[0m\n\u001b[0;32m     39\u001b[0m         \u001b[0mblock_id_hasher\u001b[0m\u001b[1;33m.\u001b[0m\u001b[0mupdate\u001b[0m\u001b[1;33m(\u001b[0m\u001b[0mself\u001b[0m\u001b[1;33m.\u001b[0m\u001b[0mnonce\u001b[0m\u001b[1;33m.\u001b[0m\u001b[0mto_bytes\u001b[0m\u001b[1;33m(\u001b[0m\u001b[1;36m8\u001b[0m\u001b[1;33m,\u001b[0m \u001b[0mbyteorder\u001b[0m \u001b[1;33m=\u001b[0m \u001b[1;34m'little'\u001b[0m\u001b[1;33m,\u001b[0m \u001b[0msigned\u001b[0m \u001b[1;33m=\u001b[0m \u001b[1;32mFalse\u001b[0m\u001b[1;33m)\u001b[0m\u001b[1;33m)\u001b[0m\u001b[1;33m\u001b[0m\u001b[1;33m\u001b[0m\u001b[0m\n\u001b[0;32m     40\u001b[0m         \u001b[0mblock_id_calculated\u001b[0m\u001b[1;33m=\u001b[0m\u001b[0mblock_id_hasher\u001b[0m\u001b[1;33m.\u001b[0m\u001b[0mfinalize\u001b[0m\u001b[1;33m(\u001b[0m\u001b[1;33m)\u001b[0m\u001b[1;33m\u001b[0m\u001b[1;33m\u001b[0m\u001b[0m\n\u001b[1;32m---> 41\u001b[1;33m         \u001b[1;32massert\u001b[0m \u001b[0mblock_id_calculated\u001b[0m\u001b[1;33m==\u001b[0m\u001b[0mself\u001b[0m\u001b[1;33m.\u001b[0m\u001b[0mblock_id\u001b[0m\u001b[1;33m,\u001b[0m \u001b[1;34m\"block_id incorrect\"\u001b[0m\u001b[1;33m\u001b[0m\u001b[1;33m\u001b[0m\u001b[0m\n\u001b[0m\u001b[0;32m     42\u001b[0m \u001b[1;33m\u001b[0m\u001b[0m\n\u001b[0;32m     43\u001b[0m         \u001b[1;31m#the list of the transactions should be at least 25\u001b[0m\u001b[1;33m\u001b[0m\u001b[1;33m\u001b[0m\u001b[1;33m\u001b[0m\u001b[0m\n",
      "\u001b[1;31mAssertionError\u001b[0m: block_id incorrect"
     ]
    }
   ],
   "source": [
    "Block_1.block_id=bytes(123456789)\n",
    "new_users_states=Block_1.verify_and_get_changes(difficulty=difficulty, previous_user_states=previous_user_states)"
   ]
  },
  {
   "cell_type": "markdown",
   "metadata": {},
   "source": [
    "## Small number of transactions"
   ]
  },
  {
   "cell_type": "code",
   "execution_count": 13,
   "metadata": {},
   "outputs": [],
   "source": [
    "Transactions2=Transactions[:-1]\n",
    "Block_1=mine_block(previous=previous, height=0, miner=miner_address, transactions=Transactions2, timestamp=int(time.time()),\n",
    "                   difficulty=difficulty)"
   ]
  },
  {
   "cell_type": "code",
   "execution_count": 14,
   "metadata": {},
   "outputs": [
    {
     "ename": "AssertionError",
     "evalue": "transaction list too short",
     "output_type": "error",
     "traceback": [
      "\u001b[1;31m---------------------------------------------------------------------------\u001b[0m",
      "\u001b[1;31mAssertionError\u001b[0m                            Traceback (most recent call last)",
      "\u001b[1;32m<ipython-input-14-d0717f0a1383>\u001b[0m in \u001b[0;36m<module>\u001b[1;34m\u001b[0m\n\u001b[1;32m----> 1\u001b[1;33m \u001b[0mnew_users_states\u001b[0m\u001b[1;33m=\u001b[0m\u001b[0mBlock_1\u001b[0m\u001b[1;33m.\u001b[0m\u001b[0mverify_and_get_changes\u001b[0m\u001b[1;33m(\u001b[0m\u001b[0mdifficulty\u001b[0m\u001b[1;33m=\u001b[0m\u001b[0mdifficulty\u001b[0m\u001b[1;33m,\u001b[0m \u001b[0mprevious_user_states\u001b[0m\u001b[1;33m=\u001b[0m\u001b[0mprevious_user_states\u001b[0m\u001b[1;33m)\u001b[0m\u001b[1;33m\u001b[0m\u001b[1;33m\u001b[0m\u001b[0m\n\u001b[0m",
      "\u001b[1;32m<ipython-input-3-cdedcad478af>\u001b[0m in \u001b[0;36mverify_and_get_changes\u001b[1;34m(self, difficulty, previous_user_states)\u001b[0m\n\u001b[0;32m     37\u001b[0m \u001b[1;33m\u001b[0m\u001b[0m\n\u001b[0;32m     38\u001b[0m         \u001b[1;31m#the list of the transactions should be at least 25\u001b[0m\u001b[1;33m\u001b[0m\u001b[1;33m\u001b[0m\u001b[1;33m\u001b[0m\u001b[0m\n\u001b[1;32m---> 39\u001b[1;33m         \u001b[1;32massert\u001b[0m \u001b[0mlen\u001b[0m\u001b[1;33m(\u001b[0m\u001b[0mself\u001b[0m\u001b[1;33m.\u001b[0m\u001b[0mtransactions\u001b[0m\u001b[1;33m)\u001b[0m\u001b[1;33m>=\u001b[0m\u001b[1;36m25\u001b[0m\u001b[1;33m,\u001b[0m \u001b[1;34m\"transaction list too short\"\u001b[0m\u001b[1;33m\u001b[0m\u001b[1;33m\u001b[0m\u001b[0m\n\u001b[0m\u001b[0;32m     40\u001b[0m \u001b[1;33m\u001b[0m\u001b[0m\n\u001b[0;32m     41\u001b[0m         \u001b[1;31m#block_id should be small enought to match difficulty of the block\u001b[0m\u001b[1;33m\u001b[0m\u001b[1;33m\u001b[0m\u001b[1;33m\u001b[0m\u001b[0m\n",
      "\u001b[1;31mAssertionError\u001b[0m: transaction list too short"
     ]
    }
   ],
   "source": [
    "new_users_states=Block_1.verify_and_get_changes(difficulty=difficulty, previous_user_states=previous_user_states)"
   ]
  },
  {
   "cell_type": "markdown",
   "metadata": {},
   "source": [
    "## lenght of miner incorrect"
   ]
  },
  {
   "cell_type": "code",
   "execution_count": 15,
   "metadata": {},
   "outputs": [
    {
     "ename": "AssertionError",
     "evalue": "miner does not have the correct lenght",
     "output_type": "error",
     "traceback": [
      "\u001b[1;31m---------------------------------------------------------------------------\u001b[0m",
      "\u001b[1;31mAssertionError\u001b[0m                            Traceback (most recent call last)",
      "\u001b[1;32m<ipython-input-15-4d566a4532b2>\u001b[0m in \u001b[0;36m<module>\u001b[1;34m\u001b[0m\n\u001b[0;32m      2\u001b[0m                    difficulty=difficulty)\n\u001b[0;32m      3\u001b[0m \u001b[0mBlock_1\u001b[0m\u001b[1;33m.\u001b[0m\u001b[0mminer\u001b[0m\u001b[1;33m=\u001b[0m\u001b[0mbytes\u001b[0m\u001b[1;33m(\u001b[0m\u001b[1;36m1234567\u001b[0m\u001b[1;33m)\u001b[0m\u001b[1;33m\u001b[0m\u001b[1;33m\u001b[0m\u001b[0m\n\u001b[1;32m----> 4\u001b[1;33m \u001b[0mnew_users_states\u001b[0m\u001b[1;33m=\u001b[0m\u001b[0mBlock_1\u001b[0m\u001b[1;33m.\u001b[0m\u001b[0mverify_and_get_changes\u001b[0m\u001b[1;33m(\u001b[0m\u001b[0mdifficulty\u001b[0m\u001b[1;33m=\u001b[0m\u001b[0mdifficulty\u001b[0m\u001b[1;33m,\u001b[0m \u001b[0mprevious_user_states\u001b[0m\u001b[1;33m=\u001b[0m\u001b[0mprevious_user_states\u001b[0m\u001b[1;33m)\u001b[0m\u001b[1;33m\u001b[0m\u001b[1;33m\u001b[0m\u001b[0m\n\u001b[0m",
      "\u001b[1;32m<ipython-input-3-cdedcad478af>\u001b[0m in \u001b[0;36mverify_and_get_changes\u001b[1;34m(self, difficulty, previous_user_states)\u001b[0m\n\u001b[0;32m     21\u001b[0m \u001b[1;33m\u001b[0m\u001b[0m\n\u001b[0;32m     22\u001b[0m         \u001b[1;31m#the lengh of the miner should be 20 bytes long\u001b[0m\u001b[1;33m\u001b[0m\u001b[1;33m\u001b[0m\u001b[1;33m\u001b[0m\u001b[0m\n\u001b[1;32m---> 23\u001b[1;33m         \u001b[1;32massert\u001b[0m \u001b[0mlen\u001b[0m\u001b[1;33m(\u001b[0m\u001b[0mself\u001b[0m\u001b[1;33m.\u001b[0m\u001b[0mminer\u001b[0m\u001b[1;33m)\u001b[0m \u001b[1;33m==\u001b[0m \u001b[1;36m20\u001b[0m \u001b[1;33m,\u001b[0m \u001b[1;34m\"miner does not have the correct lenght\"\u001b[0m\u001b[1;33m\u001b[0m\u001b[1;33m\u001b[0m\u001b[0m\n\u001b[0m\u001b[0;32m     24\u001b[0m \u001b[1;33m\u001b[0m\u001b[0m\n\u001b[0;32m     25\u001b[0m         \u001b[1;31m#block_id should be correct, this should be calculated\u001b[0m\u001b[1;33m\u001b[0m\u001b[1;33m\u001b[0m\u001b[1;33m\u001b[0m\u001b[0m\n",
      "\u001b[1;31mAssertionError\u001b[0m: miner does not have the correct lenght"
     ]
    }
   ],
   "source": [
    "Block_1=mine_block(previous=previous, height=0, miner=miner_address, transactions=Transactions, timestamp=int(time.time()),\n",
    "                   difficulty=difficulty)\n",
    "Block_1.miner=bytes(1234567)\n",
    "new_users_states=Block_1.verify_and_get_changes(difficulty=difficulty, previous_user_states=previous_user_states)"
   ]
  },
  {
   "cell_type": "markdown",
   "metadata": {},
   "source": [
    "## block_id should be small enough to match the difficulty of the target"
   ]
  },
  {
   "cell_type": "code",
   "execution_count": 20,
   "metadata": {},
   "outputs": [
    {
     "ename": "AssertionError",
     "evalue": "block_id too large",
     "output_type": "error",
     "traceback": [
      "\u001b[1;31m---------------------------------------------------------------------------\u001b[0m",
      "\u001b[1;31mAssertionError\u001b[0m                            Traceback (most recent call last)",
      "\u001b[1;32m<ipython-input-20-ea7b77350914>\u001b[0m in \u001b[0;36m<module>\u001b[1;34m\u001b[0m\n\u001b[0;32m      4\u001b[0m \u001b[0mlarge_block_id\u001b[0m\u001b[1;33m=\u001b[0m\u001b[1;36m2\u001b[0m\u001b[1;33m*\u001b[0m\u001b[0mtarget\u001b[0m\u001b[1;33m\u001b[0m\u001b[1;33m\u001b[0m\u001b[0m\n\u001b[0;32m      5\u001b[0m \u001b[0mBlock_1\u001b[0m\u001b[1;33m.\u001b[0m\u001b[0mblock_id\u001b[0m\u001b[1;33m=\u001b[0m\u001b[0mlarge_block_id\u001b[0m\u001b[1;33m.\u001b[0m\u001b[0mto_bytes\u001b[0m\u001b[1;33m(\u001b[0m\u001b[1;36m32\u001b[0m\u001b[1;33m,\u001b[0m \u001b[0mbyteorder\u001b[0m \u001b[1;33m=\u001b[0m \u001b[1;34m'big'\u001b[0m\u001b[1;33m,\u001b[0m \u001b[0msigned\u001b[0m \u001b[1;33m=\u001b[0m \u001b[1;32mFalse\u001b[0m\u001b[1;33m)\u001b[0m\u001b[1;33m\u001b[0m\u001b[1;33m\u001b[0m\u001b[0m\n\u001b[1;32m----> 6\u001b[1;33m \u001b[0mnew_users_states\u001b[0m\u001b[1;33m=\u001b[0m\u001b[0mBlock_1\u001b[0m\u001b[1;33m.\u001b[0m\u001b[0mverify_and_get_changes\u001b[0m\u001b[1;33m(\u001b[0m\u001b[0mdifficulty\u001b[0m\u001b[1;33m=\u001b[0m\u001b[0mdifficulty\u001b[0m\u001b[1;33m,\u001b[0m \u001b[0mprevious_user_states\u001b[0m\u001b[1;33m=\u001b[0m\u001b[0mprevious_user_states\u001b[0m\u001b[1;33m)\u001b[0m\u001b[1;33m\u001b[0m\u001b[1;33m\u001b[0m\u001b[0m\n\u001b[0m",
      "\u001b[1;32m<ipython-input-18-9de0faf0d205>\u001b[0m in \u001b[0;36mverify_and_get_changes\u001b[1;34m(self, difficulty, previous_user_states)\u001b[0m\n\u001b[0;32m     26\u001b[0m         \u001b[0mtarget\u001b[0m\u001b[1;33m=\u001b[0m\u001b[1;36m2\u001b[0m\u001b[1;33m**\u001b[0m\u001b[1;36m256\u001b[0m\u001b[1;33m//\u001b[0m\u001b[0mself\u001b[0m\u001b[1;33m.\u001b[0m\u001b[0mdifficulty\u001b[0m\u001b[1;33m\u001b[0m\u001b[1;33m\u001b[0m\u001b[0m\n\u001b[0;32m     27\u001b[0m         \u001b[0mblock_id_num\u001b[0m\u001b[1;33m=\u001b[0m\u001b[0mint\u001b[0m\u001b[1;33m.\u001b[0m\u001b[0mfrom_bytes\u001b[0m\u001b[1;33m(\u001b[0m\u001b[0mself\u001b[0m\u001b[1;33m.\u001b[0m\u001b[0mblock_id\u001b[0m\u001b[1;33m,\u001b[0m \u001b[1;34m\"big\"\u001b[0m\u001b[1;33m)\u001b[0m\u001b[1;33m\u001b[0m\u001b[1;33m\u001b[0m\u001b[0m\n\u001b[1;32m---> 28\u001b[1;33m         \u001b[1;32massert\u001b[0m \u001b[0mblock_id_num\u001b[0m \u001b[1;33m<=\u001b[0m \u001b[0mtarget\u001b[0m\u001b[1;33m,\u001b[0m \u001b[1;34m\"block_id too large\"\u001b[0m\u001b[1;33m\u001b[0m\u001b[1;33m\u001b[0m\u001b[0m\n\u001b[0m\u001b[0;32m     29\u001b[0m \u001b[1;33m\u001b[0m\u001b[0m\n\u001b[0;32m     30\u001b[0m         \u001b[1;31m#block_id should be correct, this should be calculated\u001b[0m\u001b[1;33m\u001b[0m\u001b[1;33m\u001b[0m\u001b[1;33m\u001b[0m\u001b[0m\n",
      "\u001b[1;31mAssertionError\u001b[0m: block_id too large"
     ]
    }
   ],
   "source": [
    "Block_1=mine_block(previous=previous, height=0, miner=miner_address, transactions=Transactions, timestamp=int(time.time()),\n",
    "                   difficulty=difficulty)\n",
    "target=2**256//difficulty\n",
    "large_block_id=2*target\n",
    "Block_1.block_id=large_block_id.to_bytes(32, byteorder = 'big', signed = False)\n",
    "new_users_states=Block_1.verify_and_get_changes(difficulty=difficulty, previous_user_states=previous_user_states)"
   ]
  },
  {
   "cell_type": "code",
   "execution_count": null,
   "metadata": {},
   "outputs": [],
   "source": []
  }
 ],
 "metadata": {
  "kernelspec": {
   "display_name": "Python 3 (ipykernel)",
   "language": "python",
   "name": "python3"
  },
  "language_info": {
   "codemirror_mode": {
    "name": "ipython",
    "version": 3
   },
   "file_extension": ".py",
   "mimetype": "text/x-python",
   "name": "python",
   "nbconvert_exporter": "python",
   "pygments_lexer": "ipython3",
   "version": "3.7.4"
  }
 },
 "nbformat": 4,
 "nbformat_minor": 2
}
