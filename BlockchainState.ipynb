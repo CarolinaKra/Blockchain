{
 "cells": [
  {
   "cell_type": "markdown",
   "metadata": {},
   "source": [
    "##  Finalising the blockchain"
   ]
  },
  {
   "cell_type": "markdown",
   "metadata": {},
   "source": [
    "The aim of this work is to create a BlockchainState class which keeps track of the blockchain state  and its users state.\n",
    "Moreover, we add the function reorg which will take care of the forks that are created, keeping the longest chain the fork which has more work done on it.\n",
    "\n",
    "Additional changes were made in the class Blocks as part of this work. "
   ]
  },
  {
   "cell_type": "code",
   "execution_count": 1,
   "metadata": {},
   "outputs": [],
   "source": [
    "#Import relevant libraries\n",
    "from cryptography.hazmat.primitives import hashes\n",
    "from cryptography.hazmat.primitives.asymmetric import ec\n",
    "from cryptography.hazmat.primitives import serialization\n",
    "from cryptography.hazmat.primitives.asymmetric import utils\n",
    "import time\n",
    "from transactions import *\n",
    "from blocks import *\n",
    "import copy\n"
   ]
  },
  {
   "cell_type": "code",
   "execution_count": 2,
   "metadata": {},
   "outputs": [],
   "source": [
    "class BlockchainState:\n",
    "    \"\"\"\n",
    "    This class keeps track of the longest chain as well as the user's states and the total difficulty\n",
    "    \"\"\"\n",
    "    def __init__(self, longest_chain, user_states, total_difficulty):\n",
    "        self.longest_chain=longest_chain\n",
    "        self.user_states=user_states\n",
    "        self.total_difficulty=total_difficulty\n",
    "    \n",
    "    def calculate_difficulty(self):\n",
    "        \"\"\"\n",
    "        Calculates the difficulty for the next block\n",
    "        \"\"\"\n",
    "        #the difficulty is calculated based on the previous 10 blocks difficulties\n",
    "        # and the time between the 11th previous block and the previous block\n",
    "        #hence when the chain lenght is shorter or equal to 10, a small difficulty is used.\n",
    "        if len(self.longest_chain) <= 10:\n",
    "            return 1000\n",
    "        else:\n",
    "            previous_10=self.longest_chain[-10:]\n",
    "            total_difficulty_for_period=0\n",
    "            for block in previous_10:\n",
    "                total_difficulty_for_period+=block.difficulty\n",
    "            total_time_for_period=max(self.longest_chain[-1].timestamp - self.longest_chain[-11].timestamp,1)\n",
    "            return (total_difficulty_for_period // total_time_for_period) * 120\n",
    "    \n",
    "    def verify_and_apply_block(self, block):\n",
    "        \"\"\"\n",
    "        this function verifies the block variables and verifies the transactions within the block\n",
    "        apply changes on the user states and add the block to the chain.\n",
    "        \"\"\"\n",
    "        #check block height is the lenght of the longest_chain\n",
    "        assert block.height==len(self.longest_chain), \"incorrect heigth\"\n",
    "        \n",
    "        #checks that the previous variable in the block is equal to the previous block_id or to 0, in case it is the first block\n",
    "        #checks that the block timestamp is equal or higher than the previous timestamp\n",
    "        if self.longest_chain==[]:\n",
    "            firts_block=0\n",
    "            previous=firts_block.to_bytes(32, byteorder = 'little', signed = False)\n",
    "            assert block.previous== previous, \"previous block id\"\n",
    "            \n",
    "        else:\n",
    "            assert block.previous == self.longest_chain[-1].block_id, \"previous block id\"\n",
    "            \n",
    "            assert block.timestamp >= self.longest_chain[-1].timestamp, \"incorrect timing\"\n",
    "        #calculates the difficulty to be verified\n",
    "        difficulty=self.calculate_difficulty()\n",
    "        #verifies the block and the transactions within it and apply changes in the user states\n",
    "        user_states_new=block.verify_and_get_changes(difficulty, self.user_states)\n",
    "        \n",
    "        #apply changes\n",
    "        self.user_states=user_states_new\n",
    "        self.longest_chain.append(block)\n",
    "        self.total_difficulty+=block.difficulty\n",
    "    \n",
    "    def undo_last_block(self):\n",
    "        \"\"\"\n",
    "        This functions undo the last block that was added to the blockchain \n",
    "        \"\"\"\n",
    "        self.total_difficulty=self.total_difficulty - self.longest_chain[-1].difficulty\n",
    "        self.user_states=self.longest_chain[-1].get_changes_for_undo(self.user_states)\n",
    "        self.longest_chain=self.longest_chain[:-1]\n",
    "        "
   ]
  },
  {
   "cell_type": "code",
   "execution_count": 3,
   "metadata": {},
   "outputs": [],
   "source": [
    "def verify_reorg(old_state, new_branch):\n",
    "    \"\"\"\n",
    "    This function can reorg the blockchain when there is a new brach that has higher difficulty than the previous branch\n",
    "    making the longest chain, the one that has more work done on it.\n",
    "    \"\"\"\n",
    "    #copy the old state\n",
    "    new_state=copy.deepcopy(old_state)\n",
    "    #gets the hight of the initial block in the new brach\n",
    "    height=new_branch[0].height\n",
    "    #iterate until the hight of the longest blockchain is equal to the initial block in the new branch\n",
    "    #and undo each of the blocks in the old state and change back the user states and difficulty\n",
    "    while(new_state.longest_chain[-1].height>= height):\n",
    "        new_state.undo_last_block()\n",
    "    #adds the blocks of the new brach and changes the users states\n",
    "    for block in new_branch:\n",
    "        new_state.verify_and_apply_block(block)\n",
    "        \n",
    "    #verifies that the new blockchain, with the new brach, has higher difficulty than the old branch    \n",
    "    assert new_state.total_difficulty> old_state.total_difficulty, \"total difficulty\"\n",
    "    \n",
    "    return new_state"
   ]
  },
  {
   "cell_type": "code",
   "execution_count": 4,
   "metadata": {},
   "outputs": [],
   "source": [
    "#I start by Creating 10 users\n",
    "#5 senders start with balance 1000\n",
    "#5 receivers start with balance 0\n",
    "#all 10 start with nonce -1\n",
    "senders_private_keys=[]\n",
    "senders_address=[]\n",
    "receivers_address=[]\n",
    "#I Create a senders and recipient addresses from eliptic curves and hashing\n",
    "for i in range(10):\n",
    "    private_key=ec.generate_private_key(ec.SECP256K1)\n",
    "    public_key_not_encoded = private_key.public_key()\n",
    "    public_key=public_key_not_encoded.public_bytes(encoding=serialization.Encoding.DER, \n",
    "                                                                 format=serialization.PublicFormat.SubjectPublicKeyInfo)\n",
    "    sha1 = hashes.Hash(hashes.SHA1())\n",
    "    sha1.update(public_key)\n",
    "    address=sha1.finalize()\n",
    "    if i <5:\n",
    "        senders_private_keys.append(private_key)\n",
    "        senders_address.append(address)\n",
    "    else:\n",
    "        receivers_address.append(address)       \n",
    "#I Generate user states for receivers and senders        \n",
    "senders=[]\n",
    "receivers=[]\n",
    "for i in range(10):\n",
    "    if i<5:\n",
    "        senders.append(generate_new_user(1000,-1))\n",
    "    else:\n",
    "        receivers.append(generate_new_user(0,-1))\n",
    "#I Generate the previous_user_states dictionary\n",
    "senders_address_states=dict(zip(senders_address,senders))\n",
    "receivers_address_states=dict(zip(receivers_address,receivers))\n",
    "previous_user_states = senders_address_states.copy()\n",
    "for key, value in receivers_address_states.items():\n",
    "    previous_user_states[key] = value\n"
   ]
  },
  {
   "cell_type": "code",
   "execution_count": 5,
   "metadata": {},
   "outputs": [],
   "source": [
    "#I Initiate the Blockchain\n",
    "Blockchain=BlockchainState(longest_chain=[], user_states=previous_user_states, total_difficulty=0)"
   ]
  },
  {
   "cell_type": "code",
   "execution_count": 6,
   "metadata": {},
   "outputs": [
    {
     "name": "stdout",
     "output_type": "stream",
     "text": [
      "0 block(s) mined\n",
      "1 block(s) mined\n",
      "2 block(s) mined\n",
      "3 block(s) mined\n",
      "4 block(s) mined\n",
      "5 block(s) mined\n",
      "6 block(s) mined\n",
      "7 block(s) mined\n",
      "8 block(s) mined\n",
      "9 block(s) mined\n",
      "10 block(s) mined\n",
      "11 block(s) mined\n"
     ]
    }
   ],
   "source": [
    "#I iterate 12 times to create a blockchain of 12 blocks \n",
    "for n in range(12):\n",
    "    #I Create the transaction list, all senders sends to all receivers\n",
    "    #All transactions will be done with the same amount and fee\n",
    "    amount=10\n",
    "    fee=1\n",
    "    Transactions=[]\n",
    "    for i in range(5):\n",
    "        if n==0:\n",
    "            nonce=0\n",
    "        else:\n",
    "            nonce=Blockchain.user_states[senders_address[i]].nonce + 1\n",
    "        for j in range(5):\n",
    "            Tr= create_signed_transaction(senders_private_keys[i], receivers_address[j], amount, fee, nonce)\n",
    "            Transactions.append(Tr)\n",
    "            nonce+=1\n",
    "    #I Create a new block\n",
    "    #I create a miner address \n",
    "    miner_private_key=ec.generate_private_key(ec.SECP256K1)\n",
    "    miner_public_key_not_encoded = miner_private_key.public_key()\n",
    "    miner_public_key=miner_public_key_not_encoded.public_bytes(encoding=serialization.Encoding.DER,\n",
    "                                                               format=serialization.PublicFormat.SubjectPublicKeyInfo)\n",
    "    miner_sha1 = hashes.Hash(hashes.SHA1())\n",
    "    miner_sha1.update(miner_public_key)\n",
    "    miner_address=miner_sha1.finalize()\n",
    "    #I calculate the difficulty of the block\n",
    "    difficulty=Blockchain.calculate_difficulty()\n",
    "    if Blockchain.longest_chain==[]:\n",
    "        firts_block=0 #the first block uses 0 as its previous block\n",
    "        previous=firts_block.to_bytes(32, byteorder = 'little', signed = False)\n",
    "    else:\n",
    "        #the previous parameter is the latest block id \n",
    "        previous=Blockchain.longest_chain[-1].block_id\n",
    "    if n<10 and n>0:\n",
    "        time.sleep(120)\n",
    "        #Mine a block\n",
    "    #I mine a block every 2 minutes when the difficulty is low, then, the difficulty is calculated accordingly and the next \n",
    "    #blocks should be mined every 2 minutes\n",
    "    block=mine_block(previous=previous, height=n, miner=miner_address, transactions=Transactions, timestamp=int(time.time()), \n",
    "                         difficulty=difficulty, cutoff_time= time.time()+60)\n",
    "    #add the block to the blockchain\n",
    "    Blockchain.verify_and_apply_block(block)\n",
    "    print(\"{} block(s) mined\".format(n+1))\n",
    "    \n",
    "    #I save the users states and the difficulty at the 9th block so I can create a fork\n",
    "    if n==8:\n",
    "        user_states_at_9th_block=copy.deepcopy(Blockchain.user_states)\n",
    "        total_difficulty_at_9th_block=copy.deepcopy(Blockchain.total_difficulty)"
   ]
  },
  {
   "cell_type": "code",
   "execution_count": 7,
   "metadata": {},
   "outputs": [
    {
     "name": "stdout",
     "output_type": "stream",
     "text": [
      "0 block(s) mined\n",
      "1 block(s) mined\n",
      "2 block(s) mined\n",
      "3 block(s) mined\n",
      "4 block(s) mined\n"
     ]
    }
   ],
   "source": [
    "#Create alternative blockchain\n",
    "#This brack will start from the 9th block of the main blockchain so I copied the blockchain till the 9th block\n",
    "new_blockchain_alternative=BlockchainState(longest_chain=Blockchain.longest_chain[:9], user_states=user_states_at_9th_block,\n",
    "                           total_difficulty=total_difficulty_at_9th_block)\n",
    "\n",
    "#I generate 5 new blocks in the alternative branch\n",
    "for n in range(5):\n",
    "    #I Create the transaction list, all senders sends to all receivers\n",
    "    #All transactions will be done with the same amount and fee\n",
    "    amount=5\n",
    "    fee=1\n",
    "    Transactions=[]\n",
    "    for i in range(5):\n",
    "        nonce=new_blockchain_alternative.user_states[senders_address[i]].nonce + 1\n",
    "        for j in range(5):\n",
    "            Tr= create_signed_transaction(senders_private_keys[i], receivers_address[j], amount, fee, nonce)\n",
    "            Transactions.append(Tr)\n",
    "            nonce+=1\n",
    "    #I Create a new block\n",
    "    #I create a miner address \n",
    "    miner_private_key=ec.generate_private_key(ec.SECP256K1)\n",
    "    miner_public_key_not_encoded = miner_private_key.public_key()\n",
    "    miner_public_key=miner_public_key_not_encoded.public_bytes(encoding=serialization.Encoding.DER,\n",
    "                                                               format=serialization.PublicFormat.SubjectPublicKeyInfo)\n",
    "    miner_sha1 = hashes.Hash(hashes.SHA1())\n",
    "    miner_sha1.update(miner_public_key)\n",
    "    miner_address=miner_sha1.finalize()\n",
    "\n",
    "    difficulty=new_blockchain_alternative.calculate_difficulty()\n",
    "    previous=new_blockchain_alternative.longest_chain[-1].block_id\n",
    "        #Create block\n",
    "    if n<=1:\n",
    "        time.sleep(120)\n",
    "        #I mine a block every 2 minutes when the difficulty is low, then, the difficulty is calculated accordingly and the next \n",
    "        #blocks should be mined every 2 minutes\n",
    "    block=mine_block(previous=previous, height=9 +n, miner=miner_address, transactions=Transactions, timestamp=int(time.time()), \n",
    "                         difficulty=difficulty, cutoff_time= time.time()+60)\n",
    "    new_blockchain_alternative.verify_and_apply_block(block)\n",
    "    print(\"{} block(s) mined\".format(n+1))\n",
    "    \n",
    "#the new branch will be the list of blocks that I added in the copied blockchain    \n",
    "new_branch=new_blockchain_alternative.longest_chain[-5:]"
   ]
  },
  {
   "cell_type": "code",
   "execution_count": 8,
   "metadata": {},
   "outputs": [],
   "source": [
    "#Now the blockchain will be reorg with the new branch \n",
    "Blockchain=verify_reorg(Blockchain, new_branch)"
   ]
  },
  {
   "cell_type": "code",
   "execution_count": 9,
   "metadata": {},
   "outputs": [
    {
     "data": {
      "text/plain": [
       "14"
      ]
     },
     "execution_count": 9,
     "metadata": {},
     "output_type": "execute_result"
    }
   ],
   "source": [
    "#verification of the blochain lenght\n",
    "len(Blockchain.longest_chain)"
   ]
  }
 ],
 "metadata": {
  "kernelspec": {
   "display_name": "Python 3 (ipykernel)",
   "language": "python",
   "name": "python3"
  },
  "language_info": {
   "codemirror_mode": {
    "name": "ipython",
    "version": 3
   },
   "file_extension": ".py",
   "mimetype": "text/x-python",
   "name": "python",
   "nbconvert_exporter": "python",
   "pygments_lexer": "ipython3",
   "version": "3.7.4"
  }
 },
 "nbformat": 4,
 "nbformat_minor": 2
}
