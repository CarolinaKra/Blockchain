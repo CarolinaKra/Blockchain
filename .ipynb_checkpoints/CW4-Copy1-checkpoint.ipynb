{
 "cells": [
  {
   "cell_type": "code",
   "execution_count": 2,
   "metadata": {},
   "outputs": [],
   "source": [
    "#Import relevant libraries\n",
    "from cryptography.hazmat.primitives import hashes\n",
    "from cryptography.hazmat.primitives.asymmetric import ec\n",
    "from cryptography.hazmat.primitives import serialization\n",
    "from cryptography.hazmat.primitives.asymmetric import utils\n",
    "import math\n",
    "import time\n",
    "from random import randint\n",
    "from random import seed\n",
    "from transactions import *\n",
    "from blocks import *\n",
    "import copy\n"
   ]
  },
  {
   "cell_type": "code",
   "execution_count": 3,
   "metadata": {},
   "outputs": [],
   "source": [
    "class BlockchainState:\n",
    "    def __init__(self, longest_chain, user_states, total_difficulty):\n",
    "        self.longest_chain=longest_chain\n",
    "        self.user_states=user_states\n",
    "        self.total_difficulty=total_difficulty\n",
    "    \n",
    "    def calculate_difficulty(self):\n",
    "        if len(self.longest_chain) <= 10:\n",
    "            return 1000\n",
    "        else:\n",
    "            previous_10=self.longest_chain[-10:]\n",
    "            total_difficulty_for_period=0\n",
    "            for block in previous_10:\n",
    "                total_difficulty_for_period+=block.difficulty\n",
    "            total_time_for_period=self.longest_chain[-1].timestamp - self.longest_chain[-11].timestamp\n",
    "            return total_difficulty_for_period * 120 // total_time_for_period\n",
    "    \n",
    "    def verify_and_apply_block(self, block):\n",
    "        #check block height is the lenght of the longest_chain\n",
    "        assert block.height==len(self.longest_chain), \"incorrect heigth\"\n",
    "        \n",
    "        if self.longest_chain==[]:\n",
    "            firts_block=0\n",
    "            previous=firts_block.to_bytes(32, byteorder = 'little', signed = False)\n",
    "            assert block.previous== previous, \"previous block incorrect\"\n",
    "            \n",
    "        else:\n",
    "            assert block.previous == self.longest_chain[-1].block_id, \"previous block incorrect\"\n",
    "            \n",
    "            assert block.timestamp >= self.longest_chain[-1].timestamp, \"incorrect timing\"\n",
    "        \n",
    "        difficulty=self.calculate_difficulty()    \n",
    "        user_states_new=block.verify_and_get_changes(difficulty, self.user_states)\n",
    "        \n",
    "        self.user_states=user_states_new\n",
    "        self.longest_chain.append(block)\n",
    "        self.total_difficulty+=block.difficulty\n",
    "    \n",
    "    def undo_last_block(self):\n",
    "        self.total_difficulty=self.total_difficulty - self.longest_chain[-1].difficulty\n",
    "        self.user_states=self.longest_chain[-1].get_changes_for_undo(self.user_states)\n",
    "        self.longest_chain=self.longest_chain[:-1]\n",
    "        "
   ]
  },
  {
   "cell_type": "code",
   "execution_count": 4,
   "metadata": {},
   "outputs": [],
   "source": [
    "def verify_reorg(old_state, new_branch):\n",
    "    new_state=copy.deepcopy(old_state)\n",
    "    height=new_branch[0].height\n",
    "    while(new_state.longest_chain[-1].height>= height):\n",
    "        new_state.undo_last_block()\n",
    "    for block in new_branch:\n",
    "        new_state.verify_and_apply_block(block)\n",
    "        \n",
    "    assert new_state.total_difficulty> old_state.total_difficulty, \"the new branch chain has lower difficulty\"\n",
    "    \n",
    "    return new_state"
   ]
  },
  {
   "cell_type": "code",
   "execution_count": 5,
   "metadata": {},
   "outputs": [],
   "source": [
    "#I start by Creating 10 users\n",
    "#5 senders start with balance 1000\n",
    "#5 receivers start with balance 0\n",
    "#all 10 start with nonce -1\n",
    "senders_private_keys=[]\n",
    "senders_address=[]\n",
    "receivers_address=[]\n",
    "#I Create a senders and recipient hash  from another eliptic curve and hashing\n",
    "for i in range(10):\n",
    "    private_key=ec.generate_private_key(ec.SECP256K1)\n",
    "    public_key_not_encoded = private_key.public_key()\n",
    "    public_key=public_key_not_encoded.public_bytes(encoding=serialization.Encoding.DER, \n",
    "                                                                 format=serialization.PublicFormat.SubjectPublicKeyInfo)\n",
    "    sha1 = hashes.Hash(hashes.SHA1())\n",
    "    sha1.update(public_key)\n",
    "    address=sha1.finalize()\n",
    "    if i <5:\n",
    "        senders_private_keys.append(private_key)\n",
    "        senders_address.append(address)\n",
    "    else:\n",
    "        receivers_address.append(address)       \n",
    "#I Generate user states for receivers and senders        \n",
    "senders=[]\n",
    "receivers=[]\n",
    "for i in range(10):\n",
    "    if i<5:\n",
    "        senders.append(generate_new_user(1000,-1))\n",
    "    else:\n",
    "        receivers.append(generate_new_user(0,-1))\n",
    "#I Generate the previous_user_states dictionary\n",
    "senders_address_states=dict(zip(senders_address,senders))\n",
    "receivers_address_states=dict(zip(receivers_address,receivers))\n",
    "previous_user_states = senders_address_states.copy()\n",
    "for key, value in receivers_address_states.items():\n",
    "    previous_user_states[key] = value\n"
   ]
  },
  {
   "cell_type": "code",
   "execution_count": 6,
   "metadata": {},
   "outputs": [],
   "source": [
    "#initiate Blockchain\n",
    "Blockchain=BlockchainState(longest_chain=[], user_states=previous_user_states, total_difficulty=0)"
   ]
  },
  {
   "cell_type": "code",
   "execution_count": null,
   "metadata": {},
   "outputs": [],
   "source": [
    "for n in range(12):\n",
    "    #I Create the transaction list, all senders sends to all receivers\n",
    "    #All transactions will be done with the same amount and fee\n",
    "    amount=10\n",
    "    fee=1\n",
    "    Transactions=[]\n",
    "    for i in range(5):\n",
    "        if n==0:\n",
    "            nonce=0\n",
    "        else:\n",
    "            nonce=Blockchain.user_states[senders_address[i]].nonce + 1\n",
    "        for j in range(5):\n",
    "            Tr, txid, signature= create_signed_transaction(senders_private_keys[i], receivers_address[j], amount, fee, nonce)\n",
    "            Transactions.append(Tr)\n",
    "            nonce+=1\n",
    "    #I Create a new block\n",
    "    #I create a miner address \n",
    "    miner_private_key=ec.generate_private_key(ec.SECP256K1)\n",
    "    miner_public_key_not_encoded = miner_private_key.public_key()\n",
    "    miner_public_key=miner_public_key_not_encoded.public_bytes(encoding=serialization.Encoding.DER,\n",
    "                                                               format=serialization.PublicFormat.SubjectPublicKeyInfo)\n",
    "    miner_sha1 = hashes.Hash(hashes.SHA1())\n",
    "    miner_sha1.update(miner_public_key)\n",
    "    miner_address=miner_sha1.finalize()\n",
    "\n",
    "    difficulty=Blockchain.calculate_difficulty()\n",
    "    if Blockchain.longest_chain==[]:\n",
    "        firts_block=0\n",
    "        previous=firts_block.to_bytes(32, byteorder = 'little', signed = False)\n",
    "    else:\n",
    "        previous=Blockchain.longest_chain[-1].block_id\n",
    "    if n<10:\n",
    "        time.sleep(120)\n",
    "        #Create block\n",
    "    block=mine_block(previous=previous, height=n, miner=miner_address, transactions=Transactions, timestamp=int(time.time()), \n",
    "                         difficulty=difficulty)\n",
    "    Blockchain.verify_and_apply_block(block)\n",
    "    print(\"{} block(s) mined\".format(n))\n",
    "        #I mine a block every 2 minutes when the difficulty is low, then, the difficulty is calculated accordingly and the next \n",
    "    #blocks should be mined every 2 minutes\n",
    "    if n==8:\n",
    "        user_states_at_9th_block=copy.deepcopy(Blockchain.user_states)\n",
    "        total_difficulty_at_9th_block=copy.deepcopy(Blockchain.total_difficulty)"
   ]
  },
  {
   "cell_type": "code",
   "execution_count": 12,
   "metadata": {},
   "outputs": [
    {
     "data": {
      "text/plain": [
       "714"
      ]
     },
     "execution_count": 12,
     "metadata": {},
     "output_type": "execute_result"
    }
   ],
   "source": [
    "Blockchain.longest_chain[-1].difficulty"
   ]
  },
  {
   "cell_type": "code",
   "execution_count": 13,
   "metadata": {},
   "outputs": [
    {
     "name": "stdout",
     "output_type": "stream",
     "text": [
      "0 block(s) mined\n",
      "1 block(s) mined\n",
      "2 block(s) mined\n",
      "3 block(s) mined\n",
      "4 block(s) mined\n"
     ]
    }
   ],
   "source": [
    "#Create alternative branch\n",
    "new_blockchain_alternative=BlockchainState(longest_chain=Blockchain.longest_chain[:9], user_states=user_states_at_9th_block,\n",
    "                           total_difficulty=total_difficulty_at_9th_block)\n",
    "\n",
    "for n in range(5):\n",
    "    #I Create the transaction list, all senders sends to all receivers\n",
    "    #All transactions will be done with the same amount and fee\n",
    "    amount=5\n",
    "    fee=1\n",
    "    Transactions=[]\n",
    "    for i in range(5):\n",
    "        nonce=new_blockchain_alternative.user_states[senders_address[i]].nonce + 1\n",
    "        for j in range(5):\n",
    "            Tr, txid, signature= create_signed_transaction(senders_private_keys[i], receivers_address[j], amount, fee, nonce)\n",
    "            Transactions.append(Tr)\n",
    "            nonce+=1\n",
    "    #I Create a new block\n",
    "    #I create a miner address \n",
    "    miner_private_key=ec.generate_private_key(ec.SECP256K1)\n",
    "    miner_public_key_not_encoded = miner_private_key.public_key()\n",
    "    miner_public_key=miner_public_key_not_encoded.public_bytes(encoding=serialization.Encoding.DER,\n",
    "                                                               format=serialization.PublicFormat.SubjectPublicKeyInfo)\n",
    "    miner_sha1 = hashes.Hash(hashes.SHA1())\n",
    "    miner_sha1.update(miner_public_key)\n",
    "    miner_address=miner_sha1.finalize()\n",
    "\n",
    "    difficulty=new_blockchain_alternative.calculate_difficulty()\n",
    "    previous=new_blockchain_alternative.longest_chain[-1].block_id\n",
    "        #Create block\n",
    "    if n<=1:\n",
    "        time.sleep(120)\n",
    "    block=mine_block(previous=previous, height=9 +n, miner=miner_address, transactions=Transactions, timestamp=int(time.time()), \n",
    "                         difficulty=difficulty)\n",
    "    new_blockchain_alternative.verify_and_apply_block(block)\n",
    "    print(\"{} block(s) mined\".format(n))\n",
    "    #I mine a block every 2 minutes when the difficulty is low, then, the difficulty is calculated accordingly and the next \n",
    "    #blocks should be mined every 2 minutes\n",
    "    \n",
    "    \n",
    "new_branch=new_blockchain_alternative.longest_chain[-5:]"
   ]
  },
  {
   "cell_type": "code",
   "execution_count": 14,
   "metadata": {},
   "outputs": [],
   "source": [
    "new_blockchain=verify_reorg(Blockchain, new_branch)"
   ]
  },
  {
   "cell_type": "code",
   "execution_count": 15,
   "metadata": {},
   "outputs": [
    {
     "data": {
      "text/plain": [
       "14"
      ]
     },
     "execution_count": 15,
     "metadata": {},
     "output_type": "execute_result"
    }
   ],
   "source": [
    "len(new_blockchain.longest_chain)"
   ]
  },
  {
   "cell_type": "code",
   "execution_count": 16,
   "metadata": {},
   "outputs": [
    {
     "data": {
      "text/plain": [
       "12778"
      ]
     },
     "execution_count": 16,
     "metadata": {},
     "output_type": "execute_result"
    }
   ],
   "source": [
    "new_blockchain.total_difficulty"
   ]
  },
  {
   "cell_type": "code",
   "execution_count": 17,
   "metadata": {},
   "outputs": [
    {
     "data": {
      "text/plain": [
       "582"
      ]
     },
     "execution_count": 17,
     "metadata": {},
     "output_type": "execute_result"
    }
   ],
   "source": [
    "new_blockchain.longest_chain[-3].difficulty"
   ]
  },
  {
   "cell_type": "code",
   "execution_count": null,
   "metadata": {},
   "outputs": [],
   "source": []
  }
 ],
 "metadata": {
  "kernelspec": {
   "display_name": "Python 3",
   "language": "python",
   "name": "python3"
  },
  "language_info": {
   "codemirror_mode": {
    "name": "ipython",
    "version": 3
   },
   "file_extension": ".py",
   "mimetype": "text/x-python",
   "name": "python",
   "nbconvert_exporter": "python",
   "pygments_lexer": "ipython3",
   "version": "3.7.4"
  }
 },
 "nbformat": 4,
 "nbformat_minor": 2
}
