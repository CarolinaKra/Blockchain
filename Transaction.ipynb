{
 "cells": [
  {
   "cell_type": "markdown",
   "metadata": {},
   "source": [
    "# Creation of Transaction and verification"
   ]
  },
  {
   "cell_type": "code",
   "execution_count": 1,
   "metadata": {},
   "outputs": [],
   "source": [
    "#Import relevant libraries\n",
    "from cryptography.hazmat.primitives import hashes\n",
    "from cryptography.hazmat.primitives.asymmetric import ec\n",
    "from cryptography.hazmat.primitives import serialization\n",
    "from cryptography.hazmat.primitives.asymmetric import utils\n",
    "import math\n",
    "digest = hashes.Hash(hashes.SHA256())\n",
    "digest.update((1234).to_bytes(8, byteorder = 'little', signed = False))\n",
    "digest.update(b\"hello world\")\n",
    "result_bytes = digest.finalize()"
   ]
  },
  {
   "cell_type": "code",
   "execution_count": 2,
   "metadata": {},
   "outputs": [],
   "source": [
    "class Transaction:\n",
    "    def __init__(self, sender_hash, recipient_hash, sender_public_key, amount,\n",
    "                fee, nonce, signature, txid):\n",
    "        \"\"\"\n",
    "        This is the class constructor function\n",
    "        \"\"\"\n",
    "        self.sender_hash=sender_hash\n",
    "        self.recipient_hash= recipient_hash\n",
    "        self.sender_public_key=sender_public_key\n",
    "        self.amount=amount\n",
    "        self.fee=fee\n",
    "        self.nonce=nonce\n",
    "        self.signature=signature\n",
    "        self.txid=txid\n",
    "    def verify(self, sender_balance, sender_previous_nonce):\n",
    "        \"\"\"\n",
    "        This function verifies the transaction\n",
    "        Input:\n",
    "        Transaction (self)\n",
    "        sender_balance (int)\n",
    "        sender_previous_nonce (int)\n",
    "        Returns:\n",
    "        When the transaction is valid, it does not return anything.\n",
    "        Raises signature error when the signature is not valid.\n",
    "        Raises errors for different types of errros in the transaction.\n",
    "        \"\"\"\n",
    "        #verify lenght of sender and recipient hash\n",
    "        assert len(self.sender_hash) == 20 , \"sender hash does not have the correct lenght\"\n",
    "        assert len(self.recipient_hash) == 20, \"recipient hash does not have the correct lenght\"\n",
    "        \n",
    "        #verify sender hash is the hash of the public key\n",
    "        sha1 = hashes.Hash(hashes.SHA1())\n",
    "        sha1.update(self.sender_public_key)\n",
    "        sender_hash=sha1.finalize()\n",
    "        assert sender_hash==self.sender_hash, \"invalid sender_hash or invalid sender_public_key\"\n",
    "        \n",
    "        #verify the amount is a whole number between 1 and  2^64 -1\n",
    "        assert self.amount>0, \"amount is negative\" #this is verified in the function as well\n",
    "        assert type(self.amount) == int, \"amount is not a whole number\" #this is verified in the function as well\n",
    "        assert self.amount < 2**64, \"amount is too high\" #this is verified in the function as well\n",
    "        #verify the amount is a whole number between 1 and  the amount\n",
    "        assert self.fee <= self.amount, \"fee is too high\" #this is verified in the function as well\n",
    "        assert type(self.fee)== int, \"fee is not a whole number\" #this is verified in the function as well\n",
    "        assert self.fee >=0, \"fee is negative\"#this is verified in the function as well\n",
    "        \n",
    "        #verify there is enough balance\n",
    "        assert sender_balance > (self.fee +self.amount), \"there is not enough balance\"\n",
    "        \n",
    "        #verify the nonce is equal to the previous nonce +1\n",
    "        assert self.nonce ==  sender_previous_nonce +1, \"invalid nonce\"\n",
    "        \n",
    "        #specifying the hash\n",
    "        chosen_hash = hashes.SHA256()\n",
    "        \n",
    "        #Verify txid\n",
    "        hasher_txid= hashes.Hash(chosen_hash)\n",
    "        hasher_txid.update(self.sender_hash)\n",
    "        hasher_txid.update(self.recipient_hash)\n",
    "        hasher_txid.update(self.sender_public_key)\n",
    "        hasher_txid.update(self.amount.to_bytes(8, byteorder = 'little', signed = False))\n",
    "        hasher_txid.update(self.fee.to_bytes(8, byteorder = 'little', signed = False))\n",
    "        hasher_txid.update(self.nonce.to_bytes(8, byteorder = 'little', signed = False))\n",
    "        hasher_txid.update(self.signature)\n",
    "        calculated_txid=hasher_txid.finalize()\n",
    "        assert calculated_txid==self.txid, 'txid incorrect'\n",
    "        \n",
    "        ##signature should be a valid signature\n",
    "        hasher = hashes.Hash(chosen_hash)\n",
    "        hasher.update(self.recipient_hash)\n",
    "        hasher.update(self.amount.to_bytes(8, byteorder = 'little', signed = False))\n",
    "        hasher.update(self.fee.to_bytes(8, byteorder = 'little', signed = False))\n",
    "        hasher.update(self.nonce.to_bytes(8, byteorder = 'little', signed = False))\n",
    "        digest_sig = hasher.finalize()\n",
    "        public_key_not_encoded = serialization.load_der_public_key(self.sender_public_key)\n",
    "        return public_key_not_encoded.verify(self.signature, digest_sig, ec.ECDSA(utils.Prehashed(chosen_hash)))      \n",
    "        "
   ]
  },
  {
   "cell_type": "code",
   "execution_count": 3,
   "metadata": {},
   "outputs": [],
   "source": [
    "def create_signed_transaction(sender_private_key, recipient_hash, amount, fee, nonce):\n",
    "    \"\"\"\n",
    "    This function creates a new signed transaction\n",
    "    Input:\n",
    "    sender_private_key (instance of elliptic curve private key)\n",
    "    recipient_hash (SHA-1 hash of the encoded recipient public key)\n",
    "    amount (int)\n",
    "    fee (int)\n",
    "    nonce (int)\n",
    "    Output:\n",
    "    Tr (Class Transaction)\n",
    "    txid (SHA-256 of the transaction)\n",
    "    Signature (Signature of the transaction with sender private key)\n",
    "    \"\"\"\n",
    "    #created sender public key encoded in DER\n",
    "    sender_public_key_not_encoded = sender_private_key.public_key()\n",
    "    sender_public_key=sender_public_key_not_encoded.public_bytes(encoding=serialization.Encoding.DER, \n",
    "                                                                 format=serialization.PublicFormat.SubjectPublicKeyInfo)\n",
    "    #Created sender hash\n",
    "    sha1 = hashes.Hash(hashes.SHA1())\n",
    "    sha1.update(sender_public_key)\n",
    "    sender_hash=sha1.finalize()\n",
    "    \n",
    "    #Created signature\n",
    "    chosen_hash = hashes.SHA256()\n",
    "    hasher = hashes.Hash(chosen_hash)\n",
    "    hasher.update(recipient_hash)\n",
    "    if amount >= 2**64:\n",
    "        raise Exception(\"Amount is too high\")\n",
    "    elif type(amount)!= int:\n",
    "        raise Exception(\"Amount is not a whole number\")\n",
    "    elif amount <0:\n",
    "        raise Exception(\"amount is negative\")\n",
    "    else:\n",
    "        hasher.update(amount.to_bytes(8, byteorder = 'little', signed = False))\n",
    "    if fee > amount:\n",
    "        raise Exception(\"Fee is too high\")\n",
    "    elif type(fee)!= int:\n",
    "        raise Exception(\"Fee is not a whole number\")\n",
    "    elif fee <0:\n",
    "        raise Exception(\"fee is negative\")\n",
    "    else:\n",
    "        hasher.update(fee.to_bytes(8, byteorder = 'little', signed = False))\n",
    "    hasher.update(nonce.to_bytes(8, byteorder = 'little', signed = False))\n",
    "    digest_sig = hasher.finalize()\n",
    "    signature = sender_private_key.sign( digest_sig, ec.ECDSA(utils.Prehashed(chosen_hash)))\n",
    "                                        \n",
    "    #created txid\n",
    "    hasher_txid= hashes.Hash(chosen_hash)\n",
    "    hasher_txid.update(sender_hash)\n",
    "    hasher_txid.update(recipient_hash)\n",
    "    hasher_txid.update(sender_public_key)\n",
    "    hasher_txid.update(amount.to_bytes(8, byteorder = 'little', signed = False))\n",
    "    hasher_txid.update(fee.to_bytes(8, byteorder = 'little', signed = False))\n",
    "    hasher_txid.update(nonce.to_bytes(8, byteorder = 'little', signed = False))\n",
    "    hasher_txid.update(signature)\n",
    "    txid=hasher_txid.finalize()\n",
    "                                        \n",
    "    Tr=Transaction(sender_hash=sender_hash, recipient_hash=recipient_hash, sender_public_key=sender_public_key,\n",
    "                  amount=amount, fee=fee, nonce=nonce, signature=signature, txid=txid)\n",
    "    return Tr, txid, signature\n"
   ]
  },
  {
   "cell_type": "markdown",
   "metadata": {},
   "source": [
    "# First test, this should run correctly\n",
    "* Generate a private key using ec.generate_private_key(ec.SECP256K1). \n",
    "* Call create_signed_transaction to make a test transaction. \n",
    "* Check that the transaction.verify call succeeds (with correct values of sender_balance and sender_previous_nonce ).\n"
   ]
  },
  {
   "cell_type": "code",
   "execution_count": 4,
   "metadata": {},
   "outputs": [],
   "source": [
    "#Creation of transaction\n",
    "#Created sender private key from eliptic curve\n",
    "sender_private_key=ec.generate_private_key(ec.SECP256K1)\n",
    "\n",
    "#Created a recipient hash either from another eliptic curve and hashing\n",
    "recipient_private_key=ec.generate_private_key(ec.SECP256K1)\n",
    "recipient_public_key_not_encoded = recipient_private_key.public_key()\n",
    "recipient_public_key=recipient_public_key_not_encoded.public_bytes(encoding=serialization.Encoding.DER, \n",
    "                                                             format=serialization.PublicFormat.SubjectPublicKeyInfo)\n",
    "sha1 = hashes.Hash(hashes.SHA1())\n",
    "sha1.update(recipient_public_key)\n",
    "recipient_hash=sha1.finalize()\n",
    "\n",
    "amount= 10\n",
    "fee=2\n",
    "nonce=1000\n",
    "\n",
    "Tr, txid, signature= create_signed_transaction(sender_private_key, recipient_hash, amount, fee, nonce)\n",
    "Tr.verify(sender_balance=20, sender_previous_nonce=999)\n"
   ]
  },
  {
   "cell_type": "markdown",
   "metadata": {},
   "source": [
    "# Invalid TXID Verification\n",
    "* Generate a valid transaction. \n",
    "* Check that modifying any of the fields causes transaction.\n",
    "* Verify to raise an exception due to an invalid txid."
   ]
  },
  {
   "cell_type": "code",
   "execution_count": 5,
   "metadata": {},
   "outputs": [
    {
     "ename": "AssertionError",
     "evalue": "sender hash does not have the correct lenght",
     "output_type": "error",
     "traceback": [
      "\u001b[1;31m---------------------------------------------------------------------------\u001b[0m",
      "\u001b[1;31mAssertionError\u001b[0m                            Traceback (most recent call last)",
      "\u001b[1;32m<ipython-input-5-fa8829a1d852>\u001b[0m in \u001b[0;36m<module>\u001b[1;34m\u001b[0m\n\u001b[0;32m      2\u001b[0m \u001b[0mTr\u001b[0m\u001b[1;33m,\u001b[0m \u001b[0mtxid\u001b[0m\u001b[1;33m,\u001b[0m \u001b[0msignature\u001b[0m\u001b[1;33m=\u001b[0m \u001b[0mcreate_signed_transaction\u001b[0m\u001b[1;33m(\u001b[0m\u001b[0msender_private_key\u001b[0m\u001b[1;33m,\u001b[0m \u001b[0mrecipient_hash\u001b[0m\u001b[1;33m,\u001b[0m \u001b[0mamount\u001b[0m\u001b[1;33m,\u001b[0m \u001b[0mfee\u001b[0m\u001b[1;33m,\u001b[0m \u001b[0mnonce\u001b[0m\u001b[1;33m)\u001b[0m\u001b[1;33m\u001b[0m\u001b[1;33m\u001b[0m\u001b[0m\n\u001b[0;32m      3\u001b[0m \u001b[0mTr\u001b[0m\u001b[1;33m.\u001b[0m\u001b[0msender_hash\u001b[0m\u001b[1;33m=\u001b[0m\u001b[0mbytes\u001b[0m\u001b[1;33m(\u001b[0m\u001b[1;36m1234\u001b[0m\u001b[1;33m)\u001b[0m\u001b[1;33m\u001b[0m\u001b[1;33m\u001b[0m\u001b[0m\n\u001b[1;32m----> 4\u001b[1;33m \u001b[0mTr\u001b[0m\u001b[1;33m.\u001b[0m\u001b[0mverify\u001b[0m\u001b[1;33m(\u001b[0m\u001b[0msender_balance\u001b[0m\u001b[1;33m=\u001b[0m\u001b[1;36m20\u001b[0m\u001b[1;33m,\u001b[0m \u001b[0msender_previous_nonce\u001b[0m\u001b[1;33m=\u001b[0m\u001b[1;36m999\u001b[0m\u001b[1;33m)\u001b[0m\u001b[1;33m\u001b[0m\u001b[1;33m\u001b[0m\u001b[0m\n\u001b[0m",
      "\u001b[1;32m<ipython-input-2-af00b38198cb>\u001b[0m in \u001b[0;36mverify\u001b[1;34m(self, sender_balance, sender_previous_nonce)\u001b[0m\n\u001b[0;32m     26\u001b[0m         \"\"\"\n\u001b[0;32m     27\u001b[0m         \u001b[1;31m#verify lenght of sender and recipient hash\u001b[0m\u001b[1;33m\u001b[0m\u001b[1;33m\u001b[0m\u001b[1;33m\u001b[0m\u001b[0m\n\u001b[1;32m---> 28\u001b[1;33m         \u001b[1;32massert\u001b[0m \u001b[0mlen\u001b[0m\u001b[1;33m(\u001b[0m\u001b[0mself\u001b[0m\u001b[1;33m.\u001b[0m\u001b[0msender_hash\u001b[0m\u001b[1;33m)\u001b[0m \u001b[1;33m==\u001b[0m \u001b[1;36m20\u001b[0m \u001b[1;33m,\u001b[0m \u001b[1;34m\"sender hash does not have the correct lenght\"\u001b[0m\u001b[1;33m\u001b[0m\u001b[1;33m\u001b[0m\u001b[0m\n\u001b[0m\u001b[0;32m     29\u001b[0m         \u001b[1;32massert\u001b[0m \u001b[0mlen\u001b[0m\u001b[1;33m(\u001b[0m\u001b[0mself\u001b[0m\u001b[1;33m.\u001b[0m\u001b[0mrecipient_hash\u001b[0m\u001b[1;33m)\u001b[0m \u001b[1;33m==\u001b[0m \u001b[1;36m20\u001b[0m\u001b[1;33m,\u001b[0m \u001b[1;34m\"recipient hash does not have the correct lenght\"\u001b[0m\u001b[1;33m\u001b[0m\u001b[1;33m\u001b[0m\u001b[0m\n\u001b[0;32m     30\u001b[0m \u001b[1;33m\u001b[0m\u001b[0m\n",
      "\u001b[1;31mAssertionError\u001b[0m: sender hash does not have the correct lenght"
     ]
    }
   ],
   "source": [
    "#changing lengh and content of sender_hash\n",
    "Tr, txid, signature= create_signed_transaction(sender_private_key, recipient_hash, amount, fee, nonce)\n",
    "Tr.sender_hash=bytes(1234)\n",
    "Tr.verify(sender_balance=20, sender_previous_nonce=999)"
   ]
  },
  {
   "cell_type": "code",
   "execution_count": 6,
   "metadata": {},
   "outputs": [
    {
     "ename": "AssertionError",
     "evalue": "invalid sender_hash or invalid sender_public_key",
     "output_type": "error",
     "traceback": [
      "\u001b[1;31m---------------------------------------------------------------------------\u001b[0m",
      "\u001b[1;31mAssertionError\u001b[0m                            Traceback (most recent call last)",
      "\u001b[1;32m<ipython-input-6-9860607d8156>\u001b[0m in \u001b[0;36m<module>\u001b[1;34m\u001b[0m\n\u001b[0;32m      2\u001b[0m \u001b[0mTr\u001b[0m\u001b[1;33m,\u001b[0m \u001b[0mtxid\u001b[0m\u001b[1;33m,\u001b[0m \u001b[0msignature\u001b[0m\u001b[1;33m=\u001b[0m \u001b[0mcreate_signed_transaction\u001b[0m\u001b[1;33m(\u001b[0m\u001b[0msender_private_key\u001b[0m\u001b[1;33m,\u001b[0m \u001b[0mrecipient_hash\u001b[0m\u001b[1;33m,\u001b[0m \u001b[0mamount\u001b[0m\u001b[1;33m,\u001b[0m \u001b[0mfee\u001b[0m\u001b[1;33m,\u001b[0m \u001b[0mnonce\u001b[0m\u001b[1;33m)\u001b[0m\u001b[1;33m\u001b[0m\u001b[1;33m\u001b[0m\u001b[0m\n\u001b[0;32m      3\u001b[0m \u001b[0mTr\u001b[0m\u001b[1;33m.\u001b[0m\u001b[0msender_hash\u001b[0m\u001b[1;33m=\u001b[0m\u001b[0mrecipient_hash\u001b[0m\u001b[1;33m\u001b[0m\u001b[1;33m\u001b[0m\u001b[0m\n\u001b[1;32m----> 4\u001b[1;33m \u001b[0mTr\u001b[0m\u001b[1;33m.\u001b[0m\u001b[0mverify\u001b[0m\u001b[1;33m(\u001b[0m\u001b[0msender_balance\u001b[0m\u001b[1;33m=\u001b[0m\u001b[1;36m20\u001b[0m\u001b[1;33m,\u001b[0m \u001b[0msender_previous_nonce\u001b[0m\u001b[1;33m=\u001b[0m\u001b[1;36m999\u001b[0m\u001b[1;33m)\u001b[0m\u001b[1;33m\u001b[0m\u001b[1;33m\u001b[0m\u001b[0m\n\u001b[0m",
      "\u001b[1;32m<ipython-input-2-af00b38198cb>\u001b[0m in \u001b[0;36mverify\u001b[1;34m(self, sender_balance, sender_previous_nonce)\u001b[0m\n\u001b[0;32m     33\u001b[0m         \u001b[0msha1\u001b[0m\u001b[1;33m.\u001b[0m\u001b[0mupdate\u001b[0m\u001b[1;33m(\u001b[0m\u001b[0mself\u001b[0m\u001b[1;33m.\u001b[0m\u001b[0msender_public_key\u001b[0m\u001b[1;33m)\u001b[0m\u001b[1;33m\u001b[0m\u001b[1;33m\u001b[0m\u001b[0m\n\u001b[0;32m     34\u001b[0m         \u001b[0msender_hash\u001b[0m\u001b[1;33m=\u001b[0m\u001b[0msha1\u001b[0m\u001b[1;33m.\u001b[0m\u001b[0mfinalize\u001b[0m\u001b[1;33m(\u001b[0m\u001b[1;33m)\u001b[0m\u001b[1;33m\u001b[0m\u001b[1;33m\u001b[0m\u001b[0m\n\u001b[1;32m---> 35\u001b[1;33m         \u001b[1;32massert\u001b[0m \u001b[0msender_hash\u001b[0m\u001b[1;33m==\u001b[0m\u001b[0mself\u001b[0m\u001b[1;33m.\u001b[0m\u001b[0msender_hash\u001b[0m\u001b[1;33m,\u001b[0m \u001b[1;34m\"invalid sender_hash or invalid sender_public_key\"\u001b[0m\u001b[1;33m\u001b[0m\u001b[1;33m\u001b[0m\u001b[0m\n\u001b[0m\u001b[0;32m     36\u001b[0m \u001b[1;33m\u001b[0m\u001b[0m\n\u001b[0;32m     37\u001b[0m         \u001b[1;31m#verify the amount is a whole number between 1 and  2^64 -1\u001b[0m\u001b[1;33m\u001b[0m\u001b[1;33m\u001b[0m\u001b[1;33m\u001b[0m\u001b[0m\n",
      "\u001b[1;31mAssertionError\u001b[0m: invalid sender_hash or invalid sender_public_key"
     ]
    }
   ],
   "source": [
    "#changing sender_hash\n",
    "Tr, txid, signature= create_signed_transaction(sender_private_key, recipient_hash, amount, fee, nonce)\n",
    "Tr.sender_hash=recipient_hash\n",
    "Tr.verify(sender_balance=20, sender_previous_nonce=999)"
   ]
  },
  {
   "cell_type": "code",
   "execution_count": 7,
   "metadata": {},
   "outputs": [
    {
     "ename": "AssertionError",
     "evalue": "txid incorrect",
     "output_type": "error",
     "traceback": [
      "\u001b[1;31m---------------------------------------------------------------------------\u001b[0m",
      "\u001b[1;31mAssertionError\u001b[0m                            Traceback (most recent call last)",
      "\u001b[1;32m<ipython-input-7-e1d4dfe3456e>\u001b[0m in \u001b[0;36m<module>\u001b[1;34m\u001b[0m\n\u001b[0;32m      2\u001b[0m \u001b[0mTr\u001b[0m\u001b[1;33m,\u001b[0m \u001b[0mtxid\u001b[0m\u001b[1;33m,\u001b[0m \u001b[0msignature\u001b[0m\u001b[1;33m=\u001b[0m \u001b[0mcreate_signed_transaction\u001b[0m\u001b[1;33m(\u001b[0m\u001b[0msender_private_key\u001b[0m\u001b[1;33m,\u001b[0m \u001b[0mrecipient_hash\u001b[0m\u001b[1;33m,\u001b[0m \u001b[0mamount\u001b[0m\u001b[1;33m,\u001b[0m \u001b[0mfee\u001b[0m\u001b[1;33m,\u001b[0m \u001b[0mnonce\u001b[0m\u001b[1;33m)\u001b[0m\u001b[1;33m\u001b[0m\u001b[1;33m\u001b[0m\u001b[0m\n\u001b[0;32m      3\u001b[0m \u001b[0mTr\u001b[0m\u001b[1;33m.\u001b[0m\u001b[0mrecipient_hash\u001b[0m\u001b[1;33m=\u001b[0m\u001b[0mTr\u001b[0m\u001b[1;33m.\u001b[0m\u001b[0msender_hash\u001b[0m\u001b[1;33m\u001b[0m\u001b[1;33m\u001b[0m\u001b[0m\n\u001b[1;32m----> 4\u001b[1;33m \u001b[0mTr\u001b[0m\u001b[1;33m.\u001b[0m\u001b[0mverify\u001b[0m\u001b[1;33m(\u001b[0m\u001b[0msender_balance\u001b[0m\u001b[1;33m=\u001b[0m\u001b[1;36m20\u001b[0m\u001b[1;33m,\u001b[0m \u001b[0msender_previous_nonce\u001b[0m\u001b[1;33m=\u001b[0m\u001b[1;36m999\u001b[0m\u001b[1;33m)\u001b[0m\u001b[1;33m\u001b[0m\u001b[1;33m\u001b[0m\u001b[0m\n\u001b[0m",
      "\u001b[1;32m<ipython-input-2-af00b38198cb>\u001b[0m in \u001b[0;36mverify\u001b[1;34m(self, sender_balance, sender_previous_nonce)\u001b[0m\n\u001b[0;32m     63\u001b[0m         \u001b[0mhasher_txid\u001b[0m\u001b[1;33m.\u001b[0m\u001b[0mupdate\u001b[0m\u001b[1;33m(\u001b[0m\u001b[0mself\u001b[0m\u001b[1;33m.\u001b[0m\u001b[0msignature\u001b[0m\u001b[1;33m)\u001b[0m\u001b[1;33m\u001b[0m\u001b[1;33m\u001b[0m\u001b[0m\n\u001b[0;32m     64\u001b[0m         \u001b[0mcalculated_txid\u001b[0m\u001b[1;33m=\u001b[0m\u001b[0mhasher_txid\u001b[0m\u001b[1;33m.\u001b[0m\u001b[0mfinalize\u001b[0m\u001b[1;33m(\u001b[0m\u001b[1;33m)\u001b[0m\u001b[1;33m\u001b[0m\u001b[1;33m\u001b[0m\u001b[0m\n\u001b[1;32m---> 65\u001b[1;33m         \u001b[1;32massert\u001b[0m \u001b[0mcalculated_txid\u001b[0m\u001b[1;33m==\u001b[0m\u001b[0mself\u001b[0m\u001b[1;33m.\u001b[0m\u001b[0mtxid\u001b[0m\u001b[1;33m,\u001b[0m \u001b[1;34m'txid incorrect'\u001b[0m\u001b[1;33m\u001b[0m\u001b[1;33m\u001b[0m\u001b[0m\n\u001b[0m\u001b[0;32m     66\u001b[0m \u001b[1;33m\u001b[0m\u001b[0m\n\u001b[0;32m     67\u001b[0m         \u001b[1;31m##signature should be a valid signature\u001b[0m\u001b[1;33m\u001b[0m\u001b[1;33m\u001b[0m\u001b[1;33m\u001b[0m\u001b[0m\n",
      "\u001b[1;31mAssertionError\u001b[0m: txid incorrect"
     ]
    }
   ],
   "source": [
    "#changing recipient_hash\n",
    "Tr, txid, signature= create_signed_transaction(sender_private_key, recipient_hash, amount, fee, nonce)\n",
    "Tr.recipient_hash=Tr.sender_hash\n",
    "Tr.verify(sender_balance=20, sender_previous_nonce=999)"
   ]
  },
  {
   "cell_type": "code",
   "execution_count": 8,
   "metadata": {},
   "outputs": [
    {
     "ename": "AssertionError",
     "evalue": "invalid sender_hash or invalid sender_public_key",
     "output_type": "error",
     "traceback": [
      "\u001b[1;31m---------------------------------------------------------------------------\u001b[0m",
      "\u001b[1;31mAssertionError\u001b[0m                            Traceback (most recent call last)",
      "\u001b[1;32m<ipython-input-8-fe14e0269bcb>\u001b[0m in \u001b[0;36m<module>\u001b[1;34m\u001b[0m\n\u001b[0;32m      2\u001b[0m \u001b[0mTr\u001b[0m\u001b[1;33m,\u001b[0m \u001b[0mtxid\u001b[0m\u001b[1;33m,\u001b[0m \u001b[0msignature\u001b[0m\u001b[1;33m=\u001b[0m \u001b[0mcreate_signed_transaction\u001b[0m\u001b[1;33m(\u001b[0m\u001b[0msender_private_key\u001b[0m\u001b[1;33m,\u001b[0m \u001b[0mrecipient_hash\u001b[0m\u001b[1;33m,\u001b[0m \u001b[0mamount\u001b[0m\u001b[1;33m,\u001b[0m \u001b[0mfee\u001b[0m\u001b[1;33m,\u001b[0m \u001b[0mnonce\u001b[0m\u001b[1;33m)\u001b[0m\u001b[1;33m\u001b[0m\u001b[1;33m\u001b[0m\u001b[0m\n\u001b[0;32m      3\u001b[0m \u001b[0mTr\u001b[0m\u001b[1;33m.\u001b[0m\u001b[0msender_public_key\u001b[0m\u001b[1;33m=\u001b[0m\u001b[0mrecipient_public_key\u001b[0m\u001b[1;33m\u001b[0m\u001b[1;33m\u001b[0m\u001b[0m\n\u001b[1;32m----> 4\u001b[1;33m \u001b[0mTr\u001b[0m\u001b[1;33m.\u001b[0m\u001b[0mverify\u001b[0m\u001b[1;33m(\u001b[0m\u001b[0msender_balance\u001b[0m\u001b[1;33m=\u001b[0m\u001b[1;36m20\u001b[0m\u001b[1;33m,\u001b[0m \u001b[0msender_previous_nonce\u001b[0m\u001b[1;33m=\u001b[0m\u001b[1;36m999\u001b[0m\u001b[1;33m)\u001b[0m\u001b[1;33m\u001b[0m\u001b[1;33m\u001b[0m\u001b[0m\n\u001b[0m",
      "\u001b[1;32m<ipython-input-2-af00b38198cb>\u001b[0m in \u001b[0;36mverify\u001b[1;34m(self, sender_balance, sender_previous_nonce)\u001b[0m\n\u001b[0;32m     33\u001b[0m         \u001b[0msha1\u001b[0m\u001b[1;33m.\u001b[0m\u001b[0mupdate\u001b[0m\u001b[1;33m(\u001b[0m\u001b[0mself\u001b[0m\u001b[1;33m.\u001b[0m\u001b[0msender_public_key\u001b[0m\u001b[1;33m)\u001b[0m\u001b[1;33m\u001b[0m\u001b[1;33m\u001b[0m\u001b[0m\n\u001b[0;32m     34\u001b[0m         \u001b[0msender_hash\u001b[0m\u001b[1;33m=\u001b[0m\u001b[0msha1\u001b[0m\u001b[1;33m.\u001b[0m\u001b[0mfinalize\u001b[0m\u001b[1;33m(\u001b[0m\u001b[1;33m)\u001b[0m\u001b[1;33m\u001b[0m\u001b[1;33m\u001b[0m\u001b[0m\n\u001b[1;32m---> 35\u001b[1;33m         \u001b[1;32massert\u001b[0m \u001b[0msender_hash\u001b[0m\u001b[1;33m==\u001b[0m\u001b[0mself\u001b[0m\u001b[1;33m.\u001b[0m\u001b[0msender_hash\u001b[0m\u001b[1;33m,\u001b[0m \u001b[1;34m\"invalid sender_hash or invalid sender_public_key\"\u001b[0m\u001b[1;33m\u001b[0m\u001b[1;33m\u001b[0m\u001b[0m\n\u001b[0m\u001b[0;32m     36\u001b[0m \u001b[1;33m\u001b[0m\u001b[0m\n\u001b[0;32m     37\u001b[0m         \u001b[1;31m#verify the amount is a whole number between 1 and  2^64 -1\u001b[0m\u001b[1;33m\u001b[0m\u001b[1;33m\u001b[0m\u001b[1;33m\u001b[0m\u001b[0m\n",
      "\u001b[1;31mAssertionError\u001b[0m: invalid sender_hash or invalid sender_public_key"
     ]
    }
   ],
   "source": [
    "#changing sender_public_key\n",
    "Tr, txid, signature= create_signed_transaction(sender_private_key, recipient_hash, amount, fee, nonce)\n",
    "Tr.sender_public_key=recipient_public_key\n",
    "Tr.verify(sender_balance=20, sender_previous_nonce=999)"
   ]
  },
  {
   "cell_type": "code",
   "execution_count": 9,
   "metadata": {},
   "outputs": [
    {
     "ename": "AssertionError",
     "evalue": "txid incorrect",
     "output_type": "error",
     "traceback": [
      "\u001b[1;31m---------------------------------------------------------------------------\u001b[0m",
      "\u001b[1;31mAssertionError\u001b[0m                            Traceback (most recent call last)",
      "\u001b[1;32m<ipython-input-9-9fa1b3a03cf1>\u001b[0m in \u001b[0;36m<module>\u001b[1;34m\u001b[0m\n\u001b[0;32m      2\u001b[0m \u001b[0mTr\u001b[0m\u001b[1;33m,\u001b[0m \u001b[0mtxid\u001b[0m\u001b[1;33m,\u001b[0m \u001b[0msignature\u001b[0m\u001b[1;33m=\u001b[0m \u001b[0mcreate_signed_transaction\u001b[0m\u001b[1;33m(\u001b[0m\u001b[0msender_private_key\u001b[0m\u001b[1;33m,\u001b[0m \u001b[0mrecipient_hash\u001b[0m\u001b[1;33m,\u001b[0m \u001b[0mamount\u001b[0m\u001b[1;33m,\u001b[0m \u001b[0mfee\u001b[0m\u001b[1;33m,\u001b[0m \u001b[0mnonce\u001b[0m\u001b[1;33m)\u001b[0m\u001b[1;33m\u001b[0m\u001b[1;33m\u001b[0m\u001b[0m\n\u001b[0;32m      3\u001b[0m \u001b[0mTr\u001b[0m\u001b[1;33m.\u001b[0m\u001b[0mamount\u001b[0m\u001b[1;33m=\u001b[0m\u001b[1;36m11\u001b[0m\u001b[1;33m\u001b[0m\u001b[1;33m\u001b[0m\u001b[0m\n\u001b[1;32m----> 4\u001b[1;33m \u001b[0mTr\u001b[0m\u001b[1;33m.\u001b[0m\u001b[0mverify\u001b[0m\u001b[1;33m(\u001b[0m\u001b[0msender_balance\u001b[0m\u001b[1;33m=\u001b[0m\u001b[1;36m20\u001b[0m\u001b[1;33m,\u001b[0m \u001b[0msender_previous_nonce\u001b[0m\u001b[1;33m=\u001b[0m\u001b[1;36m999\u001b[0m\u001b[1;33m)\u001b[0m\u001b[1;33m\u001b[0m\u001b[1;33m\u001b[0m\u001b[0m\n\u001b[0m",
      "\u001b[1;32m<ipython-input-2-af00b38198cb>\u001b[0m in \u001b[0;36mverify\u001b[1;34m(self, sender_balance, sender_previous_nonce)\u001b[0m\n\u001b[0;32m     63\u001b[0m         \u001b[0mhasher_txid\u001b[0m\u001b[1;33m.\u001b[0m\u001b[0mupdate\u001b[0m\u001b[1;33m(\u001b[0m\u001b[0mself\u001b[0m\u001b[1;33m.\u001b[0m\u001b[0msignature\u001b[0m\u001b[1;33m)\u001b[0m\u001b[1;33m\u001b[0m\u001b[1;33m\u001b[0m\u001b[0m\n\u001b[0;32m     64\u001b[0m         \u001b[0mcalculated_txid\u001b[0m\u001b[1;33m=\u001b[0m\u001b[0mhasher_txid\u001b[0m\u001b[1;33m.\u001b[0m\u001b[0mfinalize\u001b[0m\u001b[1;33m(\u001b[0m\u001b[1;33m)\u001b[0m\u001b[1;33m\u001b[0m\u001b[1;33m\u001b[0m\u001b[0m\n\u001b[1;32m---> 65\u001b[1;33m         \u001b[1;32massert\u001b[0m \u001b[0mcalculated_txid\u001b[0m\u001b[1;33m==\u001b[0m\u001b[0mself\u001b[0m\u001b[1;33m.\u001b[0m\u001b[0mtxid\u001b[0m\u001b[1;33m,\u001b[0m \u001b[1;34m'txid incorrect'\u001b[0m\u001b[1;33m\u001b[0m\u001b[1;33m\u001b[0m\u001b[0m\n\u001b[0m\u001b[0;32m     66\u001b[0m \u001b[1;33m\u001b[0m\u001b[0m\n\u001b[0;32m     67\u001b[0m         \u001b[1;31m##signature should be a valid signature\u001b[0m\u001b[1;33m\u001b[0m\u001b[1;33m\u001b[0m\u001b[1;33m\u001b[0m\u001b[0m\n",
      "\u001b[1;31mAssertionError\u001b[0m: txid incorrect"
     ]
    }
   ],
   "source": [
    "#changing amount\n",
    "Tr, txid, signature= create_signed_transaction(sender_private_key, recipient_hash, amount, fee, nonce)\n",
    "Tr.amount=11\n",
    "Tr.verify(sender_balance=20, sender_previous_nonce=999)"
   ]
  },
  {
   "cell_type": "code",
   "execution_count": 10,
   "metadata": {},
   "outputs": [
    {
     "ename": "AssertionError",
     "evalue": "txid incorrect",
     "output_type": "error",
     "traceback": [
      "\u001b[1;31m---------------------------------------------------------------------------\u001b[0m",
      "\u001b[1;31mAssertionError\u001b[0m                            Traceback (most recent call last)",
      "\u001b[1;32m<ipython-input-10-9bf732ffc29a>\u001b[0m in \u001b[0;36m<module>\u001b[1;34m\u001b[0m\n\u001b[0;32m      2\u001b[0m \u001b[0mTr\u001b[0m\u001b[1;33m,\u001b[0m \u001b[0mtxid\u001b[0m\u001b[1;33m,\u001b[0m \u001b[0msignature\u001b[0m\u001b[1;33m=\u001b[0m \u001b[0mcreate_signed_transaction\u001b[0m\u001b[1;33m(\u001b[0m\u001b[0msender_private_key\u001b[0m\u001b[1;33m,\u001b[0m \u001b[0mrecipient_hash\u001b[0m\u001b[1;33m,\u001b[0m \u001b[0mamount\u001b[0m\u001b[1;33m,\u001b[0m \u001b[0mfee\u001b[0m\u001b[1;33m,\u001b[0m \u001b[0mnonce\u001b[0m\u001b[1;33m)\u001b[0m\u001b[1;33m\u001b[0m\u001b[1;33m\u001b[0m\u001b[0m\n\u001b[0;32m      3\u001b[0m \u001b[0mTr\u001b[0m\u001b[1;33m.\u001b[0m\u001b[0mfee\u001b[0m\u001b[1;33m=\u001b[0m\u001b[1;36m1\u001b[0m\u001b[1;33m\u001b[0m\u001b[1;33m\u001b[0m\u001b[0m\n\u001b[1;32m----> 4\u001b[1;33m \u001b[0mTr\u001b[0m\u001b[1;33m.\u001b[0m\u001b[0mverify\u001b[0m\u001b[1;33m(\u001b[0m\u001b[0msender_balance\u001b[0m\u001b[1;33m=\u001b[0m\u001b[1;36m20\u001b[0m\u001b[1;33m,\u001b[0m \u001b[0msender_previous_nonce\u001b[0m\u001b[1;33m=\u001b[0m\u001b[1;36m999\u001b[0m\u001b[1;33m)\u001b[0m\u001b[1;33m\u001b[0m\u001b[1;33m\u001b[0m\u001b[0m\n\u001b[0m",
      "\u001b[1;32m<ipython-input-2-af00b38198cb>\u001b[0m in \u001b[0;36mverify\u001b[1;34m(self, sender_balance, sender_previous_nonce)\u001b[0m\n\u001b[0;32m     63\u001b[0m         \u001b[0mhasher_txid\u001b[0m\u001b[1;33m.\u001b[0m\u001b[0mupdate\u001b[0m\u001b[1;33m(\u001b[0m\u001b[0mself\u001b[0m\u001b[1;33m.\u001b[0m\u001b[0msignature\u001b[0m\u001b[1;33m)\u001b[0m\u001b[1;33m\u001b[0m\u001b[1;33m\u001b[0m\u001b[0m\n\u001b[0;32m     64\u001b[0m         \u001b[0mcalculated_txid\u001b[0m\u001b[1;33m=\u001b[0m\u001b[0mhasher_txid\u001b[0m\u001b[1;33m.\u001b[0m\u001b[0mfinalize\u001b[0m\u001b[1;33m(\u001b[0m\u001b[1;33m)\u001b[0m\u001b[1;33m\u001b[0m\u001b[1;33m\u001b[0m\u001b[0m\n\u001b[1;32m---> 65\u001b[1;33m         \u001b[1;32massert\u001b[0m \u001b[0mcalculated_txid\u001b[0m\u001b[1;33m==\u001b[0m\u001b[0mself\u001b[0m\u001b[1;33m.\u001b[0m\u001b[0mtxid\u001b[0m\u001b[1;33m,\u001b[0m \u001b[1;34m'txid incorrect'\u001b[0m\u001b[1;33m\u001b[0m\u001b[1;33m\u001b[0m\u001b[0m\n\u001b[0m\u001b[0;32m     66\u001b[0m \u001b[1;33m\u001b[0m\u001b[0m\n\u001b[0;32m     67\u001b[0m         \u001b[1;31m##signature should be a valid signature\u001b[0m\u001b[1;33m\u001b[0m\u001b[1;33m\u001b[0m\u001b[1;33m\u001b[0m\u001b[0m\n",
      "\u001b[1;31mAssertionError\u001b[0m: txid incorrect"
     ]
    }
   ],
   "source": [
    "#changing fee\n",
    "Tr, txid, signature= create_signed_transaction(sender_private_key, recipient_hash, amount, fee, nonce)\n",
    "Tr.fee=1\n",
    "Tr.verify(sender_balance=20, sender_previous_nonce=999)"
   ]
  },
  {
   "cell_type": "code",
   "execution_count": 11,
   "metadata": {},
   "outputs": [
    {
     "ename": "AssertionError",
     "evalue": "invalid nonce",
     "output_type": "error",
     "traceback": [
      "\u001b[1;31m---------------------------------------------------------------------------\u001b[0m",
      "\u001b[1;31mAssertionError\u001b[0m                            Traceback (most recent call last)",
      "\u001b[1;32m<ipython-input-11-d8c2218d5465>\u001b[0m in \u001b[0;36m<module>\u001b[1;34m\u001b[0m\n\u001b[0;32m      2\u001b[0m \u001b[0mTr\u001b[0m\u001b[1;33m,\u001b[0m \u001b[0mtxid\u001b[0m\u001b[1;33m,\u001b[0m \u001b[0msignature\u001b[0m\u001b[1;33m=\u001b[0m \u001b[0mcreate_signed_transaction\u001b[0m\u001b[1;33m(\u001b[0m\u001b[0msender_private_key\u001b[0m\u001b[1;33m,\u001b[0m \u001b[0mrecipient_hash\u001b[0m\u001b[1;33m,\u001b[0m \u001b[0mamount\u001b[0m\u001b[1;33m,\u001b[0m \u001b[0mfee\u001b[0m\u001b[1;33m,\u001b[0m \u001b[0mnonce\u001b[0m\u001b[1;33m)\u001b[0m\u001b[1;33m\u001b[0m\u001b[1;33m\u001b[0m\u001b[0m\n\u001b[0;32m      3\u001b[0m \u001b[0mTr\u001b[0m\u001b[1;33m.\u001b[0m\u001b[0mnonce\u001b[0m\u001b[1;33m=\u001b[0m\u001b[1;36m1001\u001b[0m\u001b[1;33m\u001b[0m\u001b[1;33m\u001b[0m\u001b[0m\n\u001b[1;32m----> 4\u001b[1;33m \u001b[0mTr\u001b[0m\u001b[1;33m.\u001b[0m\u001b[0mverify\u001b[0m\u001b[1;33m(\u001b[0m\u001b[0msender_balance\u001b[0m\u001b[1;33m=\u001b[0m\u001b[1;36m20\u001b[0m\u001b[1;33m,\u001b[0m \u001b[0msender_previous_nonce\u001b[0m\u001b[1;33m=\u001b[0m\u001b[1;36m999\u001b[0m\u001b[1;33m)\u001b[0m\u001b[1;33m\u001b[0m\u001b[1;33m\u001b[0m\u001b[0m\n\u001b[0m",
      "\u001b[1;32m<ipython-input-2-af00b38198cb>\u001b[0m in \u001b[0;36mverify\u001b[1;34m(self, sender_balance, sender_previous_nonce)\u001b[0m\n\u001b[0;32m     48\u001b[0m \u001b[1;33m\u001b[0m\u001b[0m\n\u001b[0;32m     49\u001b[0m         \u001b[1;31m#verify the nonce is equal to the previous nonce +1\u001b[0m\u001b[1;33m\u001b[0m\u001b[1;33m\u001b[0m\u001b[1;33m\u001b[0m\u001b[0m\n\u001b[1;32m---> 50\u001b[1;33m         \u001b[1;32massert\u001b[0m \u001b[0mself\u001b[0m\u001b[1;33m.\u001b[0m\u001b[0mnonce\u001b[0m \u001b[1;33m==\u001b[0m  \u001b[0msender_previous_nonce\u001b[0m \u001b[1;33m+\u001b[0m\u001b[1;36m1\u001b[0m\u001b[1;33m,\u001b[0m \u001b[1;34m\"invalid nonce\"\u001b[0m\u001b[1;33m\u001b[0m\u001b[1;33m\u001b[0m\u001b[0m\n\u001b[0m\u001b[0;32m     51\u001b[0m \u001b[1;33m\u001b[0m\u001b[0m\n\u001b[0;32m     52\u001b[0m         \u001b[1;31m#specifying the hash\u001b[0m\u001b[1;33m\u001b[0m\u001b[1;33m\u001b[0m\u001b[1;33m\u001b[0m\u001b[0m\n",
      "\u001b[1;31mAssertionError\u001b[0m: invalid nonce"
     ]
    }
   ],
   "source": [
    "#Changing nonce\n",
    "Tr, txid, signature= create_signed_transaction(sender_private_key, recipient_hash, amount, fee, nonce)\n",
    "Tr.nonce=1001\n",
    "Tr.verify(sender_balance=20, sender_previous_nonce=999)"
   ]
  },
  {
   "cell_type": "code",
   "execution_count": null,
   "metadata": {},
   "outputs": [],
   "source": [
    "#Changing signature\n",
    "Tr, txid, signature= create_signed_transaction(sender_private_key, recipient_hash, amount, fee, nonce)\n",
    "data = b\"something different to sign\"\n",
    "fake_signature = sender_private_key.sign(data, ec.ECDSA(hashes.SHA256()))\n",
    "Tr.signature=fake_signature\n",
    "Tr.verify(sender_balance=20, sender_previous_nonce=999)"
   ]
  },
  {
   "cell_type": "markdown",
   "metadata": {},
   "source": [
    "# Invalid Signature Verification\n",
    "* Generate a valid transaction, change the amount field, regenerate the txid so it is valid again.\n",
    "* Check that transaction.verify raises an exception due to an invalid signature.\n",
    "\n"
   ]
  },
  {
   "cell_type": "code",
   "execution_count": 12,
   "metadata": {},
   "outputs": [
    {
     "ename": "InvalidSignature",
     "evalue": "",
     "output_type": "error",
     "traceback": [
      "\u001b[1;31m---------------------------------------------------------------------------\u001b[0m",
      "\u001b[1;31mInvalidSignature\u001b[0m                          Traceback (most recent call last)",
      "\u001b[1;32m<ipython-input-12-eec81a6fb0cb>\u001b[0m in \u001b[0;36m<module>\u001b[1;34m\u001b[0m\n\u001b[0;32m     15\u001b[0m \u001b[0mTr\u001b[0m\u001b[1;33m.\u001b[0m\u001b[0mtxid\u001b[0m\u001b[1;33m=\u001b[0m\u001b[0mtxid\u001b[0m\u001b[1;33m\u001b[0m\u001b[1;33m\u001b[0m\u001b[0m\n\u001b[0;32m     16\u001b[0m \u001b[1;31m#verify signature\u001b[0m\u001b[1;33m\u001b[0m\u001b[1;33m\u001b[0m\u001b[1;33m\u001b[0m\u001b[0m\n\u001b[1;32m---> 17\u001b[1;33m \u001b[0mTr\u001b[0m\u001b[1;33m.\u001b[0m\u001b[0mverify\u001b[0m\u001b[1;33m(\u001b[0m\u001b[0msender_balance\u001b[0m\u001b[1;33m=\u001b[0m\u001b[1;36m20\u001b[0m\u001b[1;33m,\u001b[0m \u001b[0msender_previous_nonce\u001b[0m\u001b[1;33m=\u001b[0m\u001b[1;36m999\u001b[0m\u001b[1;33m)\u001b[0m\u001b[1;33m\u001b[0m\u001b[1;33m\u001b[0m\u001b[0m\n\u001b[0m",
      "\u001b[1;32m<ipython-input-2-af00b38198cb>\u001b[0m in \u001b[0;36mverify\u001b[1;34m(self, sender_balance, sender_previous_nonce)\u001b[0m\n\u001b[0;32m     73\u001b[0m         \u001b[0mdigest_sig\u001b[0m \u001b[1;33m=\u001b[0m \u001b[0mhasher\u001b[0m\u001b[1;33m.\u001b[0m\u001b[0mfinalize\u001b[0m\u001b[1;33m(\u001b[0m\u001b[1;33m)\u001b[0m\u001b[1;33m\u001b[0m\u001b[1;33m\u001b[0m\u001b[0m\n\u001b[0;32m     74\u001b[0m         \u001b[0mpublic_key_not_encoded\u001b[0m \u001b[1;33m=\u001b[0m \u001b[0mserialization\u001b[0m\u001b[1;33m.\u001b[0m\u001b[0mload_der_public_key\u001b[0m\u001b[1;33m(\u001b[0m\u001b[0mself\u001b[0m\u001b[1;33m.\u001b[0m\u001b[0msender_public_key\u001b[0m\u001b[1;33m)\u001b[0m\u001b[1;33m\u001b[0m\u001b[1;33m\u001b[0m\u001b[0m\n\u001b[1;32m---> 75\u001b[1;33m         \u001b[1;32mreturn\u001b[0m \u001b[0mpublic_key_not_encoded\u001b[0m\u001b[1;33m.\u001b[0m\u001b[0mverify\u001b[0m\u001b[1;33m(\u001b[0m\u001b[0mself\u001b[0m\u001b[1;33m.\u001b[0m\u001b[0msignature\u001b[0m\u001b[1;33m,\u001b[0m \u001b[0mdigest_sig\u001b[0m\u001b[1;33m,\u001b[0m \u001b[0mec\u001b[0m\u001b[1;33m.\u001b[0m\u001b[0mECDSA\u001b[0m\u001b[1;33m(\u001b[0m\u001b[0mutils\u001b[0m\u001b[1;33m.\u001b[0m\u001b[0mPrehashed\u001b[0m\u001b[1;33m(\u001b[0m\u001b[0mchosen_hash\u001b[0m\u001b[1;33m)\u001b[0m\u001b[1;33m)\u001b[0m\u001b[1;33m)\u001b[0m\u001b[1;33m\u001b[0m\u001b[1;33m\u001b[0m\u001b[0m\n\u001b[0m\u001b[0;32m     76\u001b[0m \u001b[1;33m\u001b[0m\u001b[0m\n",
      "\u001b[1;32m~\\Anaconda3\\lib\\site-packages\\cryptography\\hazmat\\backends\\openssl\\ec.py\u001b[0m in \u001b[0;36mverify\u001b[1;34m(self, signature, data, signature_algorithm)\u001b[0m\n\u001b[0;32m    335\u001b[0m             \u001b[0mself\u001b[0m\u001b[1;33m.\u001b[0m\u001b[0m_backend\u001b[0m\u001b[1;33m,\u001b[0m \u001b[0mdata\u001b[0m\u001b[1;33m,\u001b[0m \u001b[0msignature_algorithm\u001b[0m\u001b[1;33m.\u001b[0m\u001b[0m_algorithm\u001b[0m\u001b[1;33m\u001b[0m\u001b[1;33m\u001b[0m\u001b[0m\n\u001b[0;32m    336\u001b[0m         )\n\u001b[1;32m--> 337\u001b[1;33m         \u001b[0m_ecdsa_sig_verify\u001b[0m\u001b[1;33m(\u001b[0m\u001b[0mself\u001b[0m\u001b[1;33m.\u001b[0m\u001b[0m_backend\u001b[0m\u001b[1;33m,\u001b[0m \u001b[0mself\u001b[0m\u001b[1;33m,\u001b[0m \u001b[0msignature\u001b[0m\u001b[1;33m,\u001b[0m \u001b[0mdata\u001b[0m\u001b[1;33m)\u001b[0m\u001b[1;33m\u001b[0m\u001b[1;33m\u001b[0m\u001b[0m\n\u001b[0m",
      "\u001b[1;32m~\\Anaconda3\\lib\\site-packages\\cryptography\\hazmat\\backends\\openssl\\ec.py\u001b[0m in \u001b[0;36m_ecdsa_sig_verify\u001b[1;34m(backend, public_key, signature, data)\u001b[0m\n\u001b[0;32m    103\u001b[0m     \u001b[1;32mif\u001b[0m \u001b[0mres\u001b[0m \u001b[1;33m!=\u001b[0m \u001b[1;36m1\u001b[0m\u001b[1;33m:\u001b[0m\u001b[1;33m\u001b[0m\u001b[1;33m\u001b[0m\u001b[0m\n\u001b[0;32m    104\u001b[0m         \u001b[0mbackend\u001b[0m\u001b[1;33m.\u001b[0m\u001b[0m_consume_errors\u001b[0m\u001b[1;33m(\u001b[0m\u001b[1;33m)\u001b[0m\u001b[1;33m\u001b[0m\u001b[1;33m\u001b[0m\u001b[0m\n\u001b[1;32m--> 105\u001b[1;33m         \u001b[1;32mraise\u001b[0m \u001b[0mInvalidSignature\u001b[0m\u001b[1;33m\u001b[0m\u001b[1;33m\u001b[0m\u001b[0m\n\u001b[0m\u001b[0;32m    106\u001b[0m \u001b[1;33m\u001b[0m\u001b[0m\n\u001b[0;32m    107\u001b[0m \u001b[1;33m\u001b[0m\u001b[0m\n",
      "\u001b[1;31mInvalidSignature\u001b[0m: "
     ]
    }
   ],
   "source": [
    "Tr, txid, signature= create_signed_transaction(sender_private_key, recipient_hash, amount, fee, nonce)\n",
    "#change amount\n",
    "Tr.amount=11\n",
    "#regenerate txid\n",
    "chosen_hash = hashes.SHA256()\n",
    "hasher_txid= hashes.Hash(chosen_hash)\n",
    "hasher_txid.update(Tr.sender_hash)\n",
    "hasher_txid.update(Tr.recipient_hash)\n",
    "hasher_txid.update(Tr.sender_public_key)\n",
    "hasher_txid.update(Tr.amount.to_bytes(8, byteorder = 'little', signed = False))\n",
    "hasher_txid.update(Tr.fee.to_bytes(8, byteorder = 'little', signed = False))\n",
    "hasher_txid.update(Tr.nonce.to_bytes(8, byteorder = 'little', signed = False))\n",
    "hasher_txid.update(Tr.signature)\n",
    "txid=hasher_txid.finalize()\n",
    "Tr.txid=txid\n",
    "#verify signature\n",
    "Tr.verify(sender_balance=20, sender_previous_nonce=999)\n"
   ]
  },
  {
   "cell_type": "markdown",
   "metadata": {},
   "source": [
    "# Low balance or invalid nonce Verification\n",
    "* Generate a valid transaction, check that transaction.verify raises an exception if either the sender_balance is too low or sender_previous_nonce is incorrect."
   ]
  },
  {
   "cell_type": "code",
   "execution_count": 14,
   "metadata": {},
   "outputs": [
    {
     "ename": "AssertionError",
     "evalue": "there is not enough balance",
     "output_type": "error",
     "traceback": [
      "\u001b[1;31m---------------------------------------------------------------------------\u001b[0m",
      "\u001b[1;31mAssertionError\u001b[0m                            Traceback (most recent call last)",
      "\u001b[1;32m<ipython-input-14-1bea690fd65b>\u001b[0m in \u001b[0;36m<module>\u001b[1;34m\u001b[0m\n\u001b[0;32m      1\u001b[0m \u001b[1;31m#Giving low sender_balance\u001b[0m\u001b[1;33m\u001b[0m\u001b[1;33m\u001b[0m\u001b[1;33m\u001b[0m\u001b[0m\n\u001b[1;32m----> 2\u001b[1;33m \u001b[0mTr\u001b[0m\u001b[1;33m.\u001b[0m\u001b[0mverify\u001b[0m\u001b[1;33m(\u001b[0m\u001b[0msender_balance\u001b[0m\u001b[1;33m=\u001b[0m\u001b[1;36m1\u001b[0m\u001b[1;33m,\u001b[0m \u001b[0msender_previous_nonce\u001b[0m\u001b[1;33m=\u001b[0m\u001b[1;36m999\u001b[0m\u001b[1;33m)\u001b[0m\u001b[1;33m\u001b[0m\u001b[1;33m\u001b[0m\u001b[0m\n\u001b[0m",
      "\u001b[1;32m<ipython-input-2-af00b38198cb>\u001b[0m in \u001b[0;36mverify\u001b[1;34m(self, sender_balance, sender_previous_nonce)\u001b[0m\n\u001b[0;32m     45\u001b[0m \u001b[1;33m\u001b[0m\u001b[0m\n\u001b[0;32m     46\u001b[0m         \u001b[1;31m#verify there is enough balance\u001b[0m\u001b[1;33m\u001b[0m\u001b[1;33m\u001b[0m\u001b[1;33m\u001b[0m\u001b[0m\n\u001b[1;32m---> 47\u001b[1;33m         \u001b[1;32massert\u001b[0m \u001b[0msender_balance\u001b[0m \u001b[1;33m>\u001b[0m \u001b[1;33m(\u001b[0m\u001b[0mself\u001b[0m\u001b[1;33m.\u001b[0m\u001b[0mfee\u001b[0m \u001b[1;33m+\u001b[0m\u001b[0mself\u001b[0m\u001b[1;33m.\u001b[0m\u001b[0mamount\u001b[0m\u001b[1;33m)\u001b[0m\u001b[1;33m,\u001b[0m \u001b[1;34m\"there is not enough balance\"\u001b[0m\u001b[1;33m\u001b[0m\u001b[1;33m\u001b[0m\u001b[0m\n\u001b[0m\u001b[0;32m     48\u001b[0m \u001b[1;33m\u001b[0m\u001b[0m\n\u001b[0;32m     49\u001b[0m         \u001b[1;31m#verify the nonce is equal to the previous nonce +1\u001b[0m\u001b[1;33m\u001b[0m\u001b[1;33m\u001b[0m\u001b[1;33m\u001b[0m\u001b[0m\n",
      "\u001b[1;31mAssertionError\u001b[0m: there is not enough balance"
     ]
    }
   ],
   "source": [
    "#Giving low sender_balance\n",
    "Tr.verify(sender_balance=1, sender_previous_nonce=999)"
   ]
  },
  {
   "cell_type": "code",
   "execution_count": null,
   "metadata": {},
   "outputs": [],
   "source": [
    "#giving an incorrect sender_previous_nonce\n",
    "Tr.verify(sender_balance=20, sender_previous_nonce=998)"
   ]
  },
  {
   "cell_type": "markdown",
   "metadata": {},
   "source": [
    "# Generation of new keys for invalid signature\n",
    "* Generate two private keys, A and B. \n",
    "* Use A to generate a valid transaction. \n",
    "* Replace the signature with a signature created using B. \n",
    "* Regenerate the txid and confirm that transaction.verify fails with an invalid signature."
   ]
  },
  {
   "cell_type": "code",
   "execution_count": 15,
   "metadata": {},
   "outputs": [
    {
     "ename": "InvalidSignature",
     "evalue": "",
     "output_type": "error",
     "traceback": [
      "\u001b[1;31m---------------------------------------------------------------------------\u001b[0m",
      "\u001b[1;31mInvalidSignature\u001b[0m                          Traceback (most recent call last)",
      "\u001b[1;32m<ipython-input-15-adf6901bf497>\u001b[0m in \u001b[0;36m<module>\u001b[1;34m\u001b[0m\n\u001b[0;32m     40\u001b[0m \u001b[0mTr\u001b[0m\u001b[1;33m.\u001b[0m\u001b[0mtxid\u001b[0m\u001b[1;33m=\u001b[0m\u001b[0mtxid\u001b[0m\u001b[1;33m\u001b[0m\u001b[1;33m\u001b[0m\u001b[0m\n\u001b[0;32m     41\u001b[0m \u001b[1;33m\u001b[0m\u001b[0m\n\u001b[1;32m---> 42\u001b[1;33m \u001b[0mTr\u001b[0m\u001b[1;33m.\u001b[0m\u001b[0mverify\u001b[0m\u001b[1;33m(\u001b[0m\u001b[0msender_balance\u001b[0m\u001b[1;33m=\u001b[0m\u001b[1;36m20\u001b[0m\u001b[1;33m,\u001b[0m \u001b[0msender_previous_nonce\u001b[0m\u001b[1;33m=\u001b[0m\u001b[1;36m999\u001b[0m\u001b[1;33m)\u001b[0m\u001b[1;33m\u001b[0m\u001b[1;33m\u001b[0m\u001b[0m\n\u001b[0m",
      "\u001b[1;32m<ipython-input-2-af00b38198cb>\u001b[0m in \u001b[0;36mverify\u001b[1;34m(self, sender_balance, sender_previous_nonce)\u001b[0m\n\u001b[0;32m     73\u001b[0m         \u001b[0mdigest_sig\u001b[0m \u001b[1;33m=\u001b[0m \u001b[0mhasher\u001b[0m\u001b[1;33m.\u001b[0m\u001b[0mfinalize\u001b[0m\u001b[1;33m(\u001b[0m\u001b[1;33m)\u001b[0m\u001b[1;33m\u001b[0m\u001b[1;33m\u001b[0m\u001b[0m\n\u001b[0;32m     74\u001b[0m         \u001b[0mpublic_key_not_encoded\u001b[0m \u001b[1;33m=\u001b[0m \u001b[0mserialization\u001b[0m\u001b[1;33m.\u001b[0m\u001b[0mload_der_public_key\u001b[0m\u001b[1;33m(\u001b[0m\u001b[0mself\u001b[0m\u001b[1;33m.\u001b[0m\u001b[0msender_public_key\u001b[0m\u001b[1;33m)\u001b[0m\u001b[1;33m\u001b[0m\u001b[1;33m\u001b[0m\u001b[0m\n\u001b[1;32m---> 75\u001b[1;33m         \u001b[1;32mreturn\u001b[0m \u001b[0mpublic_key_not_encoded\u001b[0m\u001b[1;33m.\u001b[0m\u001b[0mverify\u001b[0m\u001b[1;33m(\u001b[0m\u001b[0mself\u001b[0m\u001b[1;33m.\u001b[0m\u001b[0msignature\u001b[0m\u001b[1;33m,\u001b[0m \u001b[0mdigest_sig\u001b[0m\u001b[1;33m,\u001b[0m \u001b[0mec\u001b[0m\u001b[1;33m.\u001b[0m\u001b[0mECDSA\u001b[0m\u001b[1;33m(\u001b[0m\u001b[0mutils\u001b[0m\u001b[1;33m.\u001b[0m\u001b[0mPrehashed\u001b[0m\u001b[1;33m(\u001b[0m\u001b[0mchosen_hash\u001b[0m\u001b[1;33m)\u001b[0m\u001b[1;33m)\u001b[0m\u001b[1;33m)\u001b[0m\u001b[1;33m\u001b[0m\u001b[1;33m\u001b[0m\u001b[0m\n\u001b[0m\u001b[0;32m     76\u001b[0m \u001b[1;33m\u001b[0m\u001b[0m\n",
      "\u001b[1;32m~\\Anaconda3\\lib\\site-packages\\cryptography\\hazmat\\backends\\openssl\\ec.py\u001b[0m in \u001b[0;36mverify\u001b[1;34m(self, signature, data, signature_algorithm)\u001b[0m\n\u001b[0;32m    335\u001b[0m             \u001b[0mself\u001b[0m\u001b[1;33m.\u001b[0m\u001b[0m_backend\u001b[0m\u001b[1;33m,\u001b[0m \u001b[0mdata\u001b[0m\u001b[1;33m,\u001b[0m \u001b[0msignature_algorithm\u001b[0m\u001b[1;33m.\u001b[0m\u001b[0m_algorithm\u001b[0m\u001b[1;33m\u001b[0m\u001b[1;33m\u001b[0m\u001b[0m\n\u001b[0;32m    336\u001b[0m         )\n\u001b[1;32m--> 337\u001b[1;33m         \u001b[0m_ecdsa_sig_verify\u001b[0m\u001b[1;33m(\u001b[0m\u001b[0mself\u001b[0m\u001b[1;33m.\u001b[0m\u001b[0m_backend\u001b[0m\u001b[1;33m,\u001b[0m \u001b[0mself\u001b[0m\u001b[1;33m,\u001b[0m \u001b[0msignature\u001b[0m\u001b[1;33m,\u001b[0m \u001b[0mdata\u001b[0m\u001b[1;33m)\u001b[0m\u001b[1;33m\u001b[0m\u001b[1;33m\u001b[0m\u001b[0m\n\u001b[0m",
      "\u001b[1;32m~\\Anaconda3\\lib\\site-packages\\cryptography\\hazmat\\backends\\openssl\\ec.py\u001b[0m in \u001b[0;36m_ecdsa_sig_verify\u001b[1;34m(backend, public_key, signature, data)\u001b[0m\n\u001b[0;32m    103\u001b[0m     \u001b[1;32mif\u001b[0m \u001b[0mres\u001b[0m \u001b[1;33m!=\u001b[0m \u001b[1;36m1\u001b[0m\u001b[1;33m:\u001b[0m\u001b[1;33m\u001b[0m\u001b[1;33m\u001b[0m\u001b[0m\n\u001b[0;32m    104\u001b[0m         \u001b[0mbackend\u001b[0m\u001b[1;33m.\u001b[0m\u001b[0m_consume_errors\u001b[0m\u001b[1;33m(\u001b[0m\u001b[1;33m)\u001b[0m\u001b[1;33m\u001b[0m\u001b[1;33m\u001b[0m\u001b[0m\n\u001b[1;32m--> 105\u001b[1;33m         \u001b[1;32mraise\u001b[0m \u001b[0mInvalidSignature\u001b[0m\u001b[1;33m\u001b[0m\u001b[1;33m\u001b[0m\u001b[0m\n\u001b[0m\u001b[0;32m    106\u001b[0m \u001b[1;33m\u001b[0m\u001b[0m\n\u001b[0;32m    107\u001b[0m \u001b[1;33m\u001b[0m\u001b[0m\n",
      "\u001b[1;31mInvalidSignature\u001b[0m: "
     ]
    }
   ],
   "source": [
    "#Creation of transaction\n",
    "#Create sender private key from eliptic curve\n",
    "private_key_A=ec.generate_private_key(ec.SECP256K1)\n",
    "private_key_B=ec.generate_private_key(ec.SECP256K1)\n",
    "\n",
    "#Create a recipient hash either from another eliptic curve and hashing\n",
    "recipient_private_key=ec.generate_private_key(ec.SECP256K1)\n",
    "recipient_public_key_not_encoded = recipient_private_key.public_key()\n",
    "recipient_public_key=recipient_public_key_not_encoded.public_bytes(encoding=serialization.Encoding.DER, \n",
    "                                                             format=serialization.PublicFormat.SubjectPublicKeyInfo)\n",
    "sha1 = hashes.Hash(hashes.SHA1())\n",
    "sha1.update(recipient_public_key)\n",
    "recipient_hash=sha1.finalize()\n",
    "\n",
    "amount= 10\n",
    "fee=2\n",
    "nonce=1000\n",
    "#Creation of a new signature with private_key_B\n",
    "Tr, txid, signature= create_signed_transaction(private_key_A, recipient_hash, amount, fee, nonce)\n",
    "chosen_hash = hashes.SHA256()\n",
    "hasher = hashes.Hash(chosen_hash)\n",
    "hasher.update(recipient_hash)\n",
    "hasher.update(amount.to_bytes(8, byteorder = 'little', signed = False))\n",
    "hasher.update(fee.to_bytes(8, byteorder = 'little', signed = False))\n",
    "hasher.update(nonce.to_bytes(8, byteorder = 'little', signed = False))\n",
    "digest_sig = hasher.finalize()\n",
    "signature = private_key_B.sign( digest_sig, ec.ECDSA(utils.Prehashed(chosen_hash)))\n",
    "Tr.signature=signature\n",
    "\n",
    "#regenerate the txid\n",
    "hasher_txid= hashes.Hash(chosen_hash)\n",
    "hasher_txid.update(Tr.sender_hash)\n",
    "hasher_txid.update(Tr.recipient_hash)\n",
    "hasher_txid.update(Tr.sender_public_key)\n",
    "hasher_txid.update(Tr.amount.to_bytes(8, byteorder = 'little', signed = False))\n",
    "hasher_txid.update(Tr.fee.to_bytes(8, byteorder = 'little', signed = False))\n",
    "hasher_txid.update(Tr.nonce.to_bytes(8, byteorder = 'little', signed = False))\n",
    "hasher_txid.update(Tr.signature)\n",
    "txid=hasher_txid.finalize()\n",
    "Tr.txid=txid\n",
    "\n",
    "Tr.verify(sender_balance=20, sender_previous_nonce=999)"
   ]
  },
  {
   "cell_type": "markdown",
   "metadata": {},
   "source": [
    "* Check that the following transaction verifies successfully (when using sender_balance = 20 , sender_previous_nonce = 4 )\n"
   ]
  },
  {
   "cell_type": "code",
   "execution_count": 16,
   "metadata": {},
   "outputs": [],
   "source": [
    "Tr=Transaction(\n",
    "bytes.fromhex(\"3df8f04b3c159fdc6631c4b8b0874940344d173d\"),\n",
    "bytes.fromhex(\"5c1499a0484ace2f731b0afb83241e15f0e168ca\"),\n",
    "bytes.fromhex(\"3056301006072a8648ce3d020106052b8104000a\" +\n",
    "\"03420004886ed03cb7ffd4cbd95579ea2e202f1d\" +\n",
    "\"b29afc3bf5d7c2c34a34701bbb0685a7b535f1e6\" +\n",
    "\"31373afe8d1c860a9ac47d8e2659b74d437435b0\" +\n",
    "\"5f2c55bf3f033ac1\"),\n",
    "10,\n",
    "2,\n",
    "5,\n",
    "bytes.fromhex(\"3046022100f9c076a72a2341a1b8cb68520713e1\" +\n",
    "\"2f173378cf78cf79c7978a2337fbad141d022100\" +\n",
    "\"ec27704d4d604f839f99e62c02e65bf60cc93ae1\"\n",
    "\"735c1ccf29fd31bd3c5a40ed\"),\n",
    "bytes.fromhex(\"ca388e0890b71bd1775460d478f26af3776c9b4f\" +\n",
    "\"6c2b936e1e788c5c87657bc3\"))\n",
    "Tr.verify(sender_balance=20, sender_previous_nonce=4)"
   ]
  },
  {
   "cell_type": "markdown",
   "metadata": {},
   "source": [
    "## Address Scheme"
   ]
  },
  {
   "cell_type": "markdown",
   "metadata": {},
   "source": [
    "For the last part of the assignment, I need to come with an Address Scheme to check for errors in the address.\n",
    "This is my own implementation of Luhn algorithm which is used for credit cards numbers and IDs of various countries between others."
   ]
  },
  {
   "cell_type": "code",
   "execution_count": 17,
   "metadata": {},
   "outputs": [],
   "source": [
    "def Create_Check_num(recipient_hash):\n",
    "    int_address=int.from_bytes(recipient_hash, \"big\") #converting the address to an int object\n",
    "    str_address=str(int_address) #converting then to string object\n",
    "    #converting it to an array of int values\n",
    "    array_address=[] \n",
    "    for i in range(len(str_address)):\n",
    "        array_address.append(int(str_address[i]))\n",
    "    #In the second stage, I double the value of the numberst that are only in the even positions\n",
    "    #In case the resulted value is double digit, I sum them again to get one digit number\n",
    "    double_even_positions=[]\n",
    "    for i in range(len(array_address)):\n",
    "        if i%2==0:\n",
    "            double=array_address[i]*2\n",
    "            if math.floor(double/10)==0:\n",
    "                double_even_positions.append(double)\n",
    "            else:\n",
    "                new_double=0\n",
    "                double=str(double)\n",
    "                for n in range(2):\n",
    "                    new_double+=int(double[n])\n",
    "                double_even_positions.append(new_double)\n",
    "        else:\n",
    "            double_even_positions.append(array_address[i])\n",
    "    #In the last stage we get the check_sum number by summing all the digits in the list, and get the number that needs to be added\n",
    "    #to the sum to get a number that could be divided by 10. \n",
    "    check_num=10-sum(double_even_positions)%10\n",
    "    return check_num        "
   ]
  },
  {
   "cell_type": "code",
   "execution_count": 18,
   "metadata": {},
   "outputs": [
    {
     "data": {
      "text/plain": [
       "5"
      ]
     },
     "execution_count": 18,
     "metadata": {},
     "output_type": "execute_result"
    }
   ],
   "source": [
    "check_num=Create_Check_num(recipient_hash)\n",
    "check_num"
   ]
  },
  {
   "cell_type": "markdown",
   "metadata": {},
   "source": [
    "The recipient of the money in the transaction should give his address together with a check_num number. Check_num will be an additional attribute of the transaction. \n",
    "Bellow I recreate the initial functions with an additional check_num variable and I verify the transaction is correct."
   ]
  },
  {
   "cell_type": "code",
   "execution_count": 19,
   "metadata": {},
   "outputs": [],
   "source": [
    "class Transaction_with_check_num:\n",
    "    def __init__(self, sender_hash, recipient_hash, check_num, sender_public_key, amount,\n",
    "                fee, nonce, signature, txid):\n",
    "        \"\"\"\n",
    "        This is the class constructor function\n",
    "        \"\"\"\n",
    "        self.sender_hash=sender_hash\n",
    "        self.recipient_hash= recipient_hash\n",
    "        self.sender_public_key=sender_public_key\n",
    "        self.amount=amount\n",
    "        self.fee=fee\n",
    "        self.nonce=nonce\n",
    "        self.signature=signature\n",
    "        self.txid=txid\n",
    "        self.check_num=check_num\n",
    "    def verify(self, sender_balance, sender_previous_nonce):\n",
    "        \"\"\"\n",
    "        This function verifies the transaction\n",
    "        Input:\n",
    "        Transaction (self)\n",
    "        sender_balance (int)\n",
    "        sender_previous_nonce (int)\n",
    "        Returns:\n",
    "        When the transaction is valid, it does not return anything.\n",
    "        Raises signature error when the signature is not valid.\n",
    "        Raises error for different types of errros in the transaction.\n",
    "        \"\"\"\n",
    "        #verify lenght of sender and recipient hash\n",
    "        assert len(self.sender_hash) == 20 , \"sender hash does not have the correct lenght\"\n",
    "        assert len(self.recipient_hash) == 20, \"recipient hash does not have the correct lenght\"\n",
    "        \n",
    "        #verify sender hash is the hash of the public key\n",
    "        sha1 = hashes.Hash(hashes.SHA1())\n",
    "        sha1.update(self.sender_public_key)\n",
    "        sender_hash=sha1.finalize()\n",
    "        assert sender_hash==self.sender_hash, \"invalid sender_hash or invalid sender_public_key\"\n",
    "        \n",
    "        #verify the amount is a whole number between 1 and  2^64 -1\n",
    "        assert self.amount>0, \"amount is negative\" #this is verified in the function as well\n",
    "        assert type(self.amount) == int, \"amount is not a whole number\" #this is verified in the function as well\n",
    "        assert self.amount < 2**64, \"amount is too high\" #this is verified in the function as well\n",
    "        #verify the amount is a whole number between 1 and  the amount\n",
    "        assert self.fee <= self.amount, \"fee is too high\" #this is verified in the function as well\n",
    "        assert type(self.fee)== int, \"fee is not a whole number\" #this is verified in the function as well\n",
    "        assert self.fee >=0, \"fee is negative\"#this is verified in the function as well\n",
    "        \n",
    "        #verify there is enough balance\n",
    "        assert sender_balance > (self.fee +self.amount), \"there is not enough balance\"\n",
    "        \n",
    "        #verify the nonce is equal to the previous nonce +1\n",
    "        assert self.nonce ==  sender_previous_nonce +1, \"invalid nonce\"\n",
    "        \n",
    "        #specifying the hash\n",
    "        chosen_hash = hashes.SHA256()\n",
    "        \n",
    "        #Verify txid\n",
    "        hasher_txid= hashes.Hash(chosen_hash)\n",
    "        hasher_txid.update(self.sender_hash)\n",
    "        hasher_txid.update(self.recipient_hash)\n",
    "        hasher_txid.update(self.sender_public_key)\n",
    "        hasher_txid.update(self.amount.to_bytes(8, byteorder = 'little', signed = False))\n",
    "        hasher_txid.update(self.fee.to_bytes(8, byteorder = 'little', signed = False))\n",
    "        hasher_txid.update(self.nonce.to_bytes(8, byteorder = 'little', signed = False))\n",
    "        hasher_txid.update(self.signature)\n",
    "        calculated_txid=hasher_txid.finalize()\n",
    "        assert calculated_txid==self.txid, 'txid incorrect'\n",
    "        \n",
    "        def Create_Check_num(recipient_hash):\n",
    "            int_address=int.from_bytes(recipient_hash, \"big\") #converting the address to an int object\n",
    "            str_address=str(int_address) #converting then to string object\n",
    "            #converting it to an array of int values\n",
    "            array_address=[] \n",
    "            for i in range(len(str_address)):\n",
    "                array_address.append(int(str_address[i]))\n",
    "            #In the second stage, I double the value of the numberst that are only in the even positions\n",
    "            #In case the resulted value is double digit, I sum them again to get one digit number\n",
    "            double_even_positions=[]\n",
    "            for i in range(len(array_address)):\n",
    "                if i%2==0:\n",
    "                    double=array_address[i]*2\n",
    "                    if math.floor(double/10)==0:\n",
    "                        double_even_positions.append(double)\n",
    "                    else:\n",
    "                        new_double=0\n",
    "                        double=str(double)\n",
    "                        for n in range(2):\n",
    "                            new_double+=int(double[n])\n",
    "                        double_even_positions.append(new_double)\n",
    "                else:\n",
    "                    double_even_positions.append(array_address[i])\n",
    "            #In the last stage we get the check_sum number by summing all the digits in the list, and get the number that needs to be added\n",
    "            #to the sum to get a number that could be divided by 10. \n",
    "            check_num=10-sum(double_even_positions)%10\n",
    "            return check_num\n",
    "        calculated_check_sum=Create_Check_num(self.recipient_hash)\n",
    "        assert calculated_check_sum==self.check_num, \"address not correct\"\n",
    "        \n",
    "        \n",
    "        ##signature should be a valid signature\n",
    "        hasher = hashes.Hash(chosen_hash)\n",
    "        hasher.update(self.recipient_hash)\n",
    "        hasher.update(self.amount.to_bytes(8, byteorder = 'little', signed = False))\n",
    "        hasher.update(self.fee.to_bytes(8, byteorder = 'little', signed = False))\n",
    "        hasher.update(self.nonce.to_bytes(8, byteorder = 'little', signed = False))\n",
    "        digest_sig = hasher.finalize()\n",
    "        public_key_not_encoded = serialization.load_der_public_key(self.sender_public_key)\n",
    "        return public_key_not_encoded.verify(self.signature, digest_sig, ec.ECDSA(utils.Prehashed(chosen_hash)))      \n",
    "        "
   ]
  },
  {
   "cell_type": "code",
   "execution_count": 20,
   "metadata": {},
   "outputs": [],
   "source": [
    "def create_signed_transaction_with_check_num(sender_private_key, recipient_hash, check_num, amount, fee, nonce):\n",
    "    \"\"\"\n",
    "    This function creates a new signed transaction\n",
    "    Input:\n",
    "    sender_private_key\n",
    "    recipient_hash\n",
    "    amount (int)\n",
    "    fee (int)\n",
    "    nonce (int)\n",
    "    Output:\n",
    "    Transaction\n",
    "    \"\"\"\n",
    "    #created sender public key encoded in DER\n",
    "    sender_public_key_not_encoded = sender_private_key.public_key()\n",
    "    sender_public_key=sender_public_key_not_encoded.public_bytes(encoding=serialization.Encoding.DER, \n",
    "                                                                 format=serialization.PublicFormat.SubjectPublicKeyInfo)\n",
    "    #Created sender hash\n",
    "    sha1 = hashes.Hash(hashes.SHA1())\n",
    "    sha1.update(sender_public_key)\n",
    "    sender_hash=sha1.finalize()\n",
    "    \n",
    "    #Created signature\n",
    "    chosen_hash = hashes.SHA256()\n",
    "    hasher = hashes.Hash(chosen_hash)\n",
    "    hasher.update(recipient_hash)\n",
    "    if amount >= 2**64:\n",
    "        raise Exception(\"Amount is too high\")\n",
    "    elif type(amount)!= int:\n",
    "        raise Exception(\"Amount is not a whole number\")\n",
    "    elif amount <0:\n",
    "        raise Exception(\"amount is negative\")\n",
    "    else:\n",
    "        hasher.update(amount.to_bytes(8, byteorder = 'little', signed = False))\n",
    "    if fee > amount:\n",
    "        raise Exception(\"Fee is too high\")\n",
    "    elif type(fee)!= int:\n",
    "        raise Exception(\"Fee is not a whole number\")\n",
    "    elif fee <0:\n",
    "        raise Exception(\"fee is negative\")\n",
    "    else:\n",
    "        hasher.update(fee.to_bytes(8, byteorder = 'little', signed = False))\n",
    "    hasher.update(nonce.to_bytes(8, byteorder = 'little', signed = False))\n",
    "    digest_sig = hasher.finalize()\n",
    "    signature = sender_private_key.sign( digest_sig, ec.ECDSA(utils.Prehashed(chosen_hash)))\n",
    "                                        \n",
    "    #created txid\n",
    "    hasher_txid= hashes.Hash(chosen_hash)\n",
    "    hasher_txid.update(sender_hash)\n",
    "    hasher_txid.update(recipient_hash)\n",
    "    hasher_txid.update(sender_public_key)\n",
    "    hasher_txid.update(amount.to_bytes(8, byteorder = 'little', signed = False))\n",
    "    hasher_txid.update(fee.to_bytes(8, byteorder = 'little', signed = False))\n",
    "    hasher_txid.update(nonce.to_bytes(8, byteorder = 'little', signed = False))\n",
    "    hasher_txid.update(signature)\n",
    "    txid=hasher_txid.finalize()\n",
    "                                        \n",
    "    Tr=Transaction_with_check_num(sender_hash=sender_hash, recipient_hash=recipient_hash, check_num=check_num, sender_public_key=sender_public_key,\n",
    "                  amount=amount, fee=fee, nonce=nonce, signature=signature, txid=txid)\n",
    "    return Tr, txid, signature\n"
   ]
  },
  {
   "cell_type": "code",
   "execution_count": 21,
   "metadata": {},
   "outputs": [],
   "source": [
    "#Creation of transaction\n",
    "#Created sender private key from eliptic curve\n",
    "sender_private_key=ec.generate_private_key(ec.SECP256K1)\n",
    "\n",
    "#Created a recipient hash either from another eliptic curve and hashing\n",
    "recipient_private_key=ec.generate_private_key(ec.SECP256K1)\n",
    "recipient_public_key_not_encoded = recipient_private_key.public_key()\n",
    "recipient_public_key=recipient_public_key_not_encoded.public_bytes(encoding=serialization.Encoding.DER, \n",
    "                                                             format=serialization.PublicFormat.SubjectPublicKeyInfo)\n",
    "sha1 = hashes.Hash(hashes.SHA1())\n",
    "sha1.update(recipient_public_key)\n",
    "recipient_hash=sha1.finalize()\n",
    "\n",
    "amount= 10\n",
    "fee=2\n",
    "nonce=1000\n",
    "check_num=Create_Check_num(recipient_hash)\n",
    "\n",
    "Tr, txid, signature= create_signed_transaction_with_check_num(sender_private_key, recipient_hash, check_num, amount, fee, nonce)\n",
    "Tr.verify(sender_balance=20, sender_previous_nonce=999)\n"
   ]
  },
  {
   "cell_type": "markdown",
   "metadata": {},
   "source": [
    "### References\n",
    "\n",
    "* Gocardless.com. 2021. What is the Luhn Algorithm. [online] Available at: <https://gocardless.com/guides/posts/what-is-luhn-algorithm/> [Accessed 27 June 2021].\n",
    "* GeeksforGeeks. 2021. Luhn algorithm - GeeksforGeeks. [online] Available at: <https://www.geeksforgeeks.org/luhn-algorithm/> [Accessed 27 June 2021]."
   ]
  }
 ],
 "metadata": {
  "kernelspec": {
   "display_name": "Python 3 (ipykernel)",
   "language": "python",
   "name": "python3"
  },
  "language_info": {
   "codemirror_mode": {
    "name": "ipython",
    "version": 3
   },
   "file_extension": ".py",
   "mimetype": "text/x-python",
   "name": "python",
   "nbconvert_exporter": "python",
   "pygments_lexer": "ipython3",
   "version": "3.7.4"
  }
 },
 "nbformat": 4,
 "nbformat_minor": 2
}
